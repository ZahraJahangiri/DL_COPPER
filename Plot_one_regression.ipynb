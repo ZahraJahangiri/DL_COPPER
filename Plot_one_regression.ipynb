{
 "cells": [
  {
   "cell_type": "markdown",
   "metadata": {},
   "source": [
    "# Import"
   ]
  },
  {
   "cell_type": "code",
   "execution_count": 1,
   "metadata": {},
   "outputs": [],
   "source": [
    "import torch\n",
    "import torchvision\n",
    "from torchvision import transforms\n",
    "import torch.nn as nn\n",
    "import time\n",
    "import copy\n",
    "import torch.nn.functional as F\n",
    "import matplotlib.pyplot as plt\n",
    "import numpy as np\n",
    "import pandas as pd\n",
    "from sklearn.model_selection import train_test_split\n",
    "from torch.utils.data import Dataset, TensorDataset, DataLoader, random_split, SubsetRandomSampler\n",
    "import torchvision.models as models\n",
    "from torch.utils.tensorboard import SummaryWriter\n",
    "import pytorch_lightning as pl\n",
    "from pytorch_lightning import Trainer\n",
    "import os\n",
    "import re\n",
    "import shutil\n",
    "import sys\n",
    "import ipywidgets\n",
    "from scipy import stats\n",
    "from os import listdir\n",
    "from textwrap import wrap\n",
    "\n",
    "#from pytorch_lightning.callbacks import ModelCheckpoint"
   ]
  },
  {
   "cell_type": "code",
   "execution_count": 2,
   "metadata": {},
   "outputs": [
    {
     "name": "stdout",
     "output_type": "stream",
     "text": [
      "1\n"
     ]
    }
   ],
   "source": [
    "AVAIL_GPUS = torch.cuda.device_count()\n",
    "print(AVAIL_GPUS)\n",
    "device = torch.device('cuda' if torch.cuda.is_available() else 'cpu')"
   ]
  },
  {
   "cell_type": "code",
   "execution_count": null,
   "metadata": {},
   "outputs": [],
   "source": [
    "# Creat a file of detailed information of outputs\n",
    "\n",
    "import csv \n",
    "# x = []\n",
    "# y= []\n",
    "\n",
    "\n",
    "# for idx in range(937):\n",
    "#     x1, y1 = copperDataset.__getitem__(idx)\n",
    "#     x.append(np.array(x1.reshape(1,len(x1))))\n",
    "#     y.append(np.array(y1.reshape(1,len(y1))))\n",
    "# y = np.asmatrix(np.vstack(y))\n",
    "output_info = []\n",
    "rows = []\n",
    "Details = ['filename', 'row_index', 'col_index', 'mean', 'std', 'min', 'max', 'most frequncies']\n",
    "\n",
    "y_mean = y.mean(axis=0)\n",
    "y_std = y.std(axis=0)\n",
    "y_min = y.min(axis=0)\n",
    "y_max = y.max(axis=0)\n",
    "output_idx = copperDataset.get_output_index(1)\n",
    "bins = bins = np.arange(y.min(), y.max() + 2)\n",
    "n = 5\n",
    "\n",
    "for i in range(y.shape[1]):\n",
    "    output_info.append(output_idx_raw[i][0])\n",
    "    output_info.append(output_idx_raw[i][1])\n",
    "    output_info.append(output_idx_raw[i][2])\n",
    "    output_info.append(y_mean[0, i])\n",
    "    output_info.append(y_std[0, i])\n",
    "    output_info.append(y_min[0, i])\n",
    "    output_info.append(y_max[0, i])\n",
    "    rows.append(output_info)\n",
    "    h, _  = np.histogram(y[:,i], bins, density = False)\n",
    "    sorted_index_array = np.argsort(h)[::-1]\n",
    "    sorted_array = h[sorted_index_array]\n",
    "    rslt = sorted_array[0 : n ]\n",
    "    output_info.append(rslt)\n",
    "    output_info = []\n",
    "    \n",
    "with open('output_info.csv', 'w') as f: \n",
    "    write = csv.writer(f) \n",
    "    write.writerow(Details) \n",
    "    write.writerows(rows)"
   ]
  },
  {
   "cell_type": "code",
   "execution_count": null,
   "metadata": {},
   "outputs": [],
   "source": [
    "# utility function for converting csv to xslx:\n",
    "\n",
    "#Convert input .csv files (annual_growth) to .xlsx\n",
    "# dir is input directory\n",
    "dir = 'COPPER5_CapCost_CTax_PopGrowth_all_False/inputs'\n",
    "CSV_Files = [file for file in listdir(dir) if file.endswith('.csv') and file.startswith('annual_growth')]\n",
    "for i in CSV_Files:\n",
    "    path = os.path.join(dir, i)\n",
    "    filename = os. path. splitext(i)[0]\n",
    "    info = pd.read_csv(path)\n",
    "    info.to_excel ('%s/%s.xlsx' %(dir,filename), index = None, header=True)\n",
    "    # os.remove(path)"
   ]
  },
  {
   "cell_type": "code",
   "execution_count": 4,
   "metadata": {},
   "outputs": [],
   "source": [
    "# Creat a dataset object\n",
    "\n",
    "in_dir = 'COPPER5_CapCost_CTax_PopGrowth_all_False/inputs'\n",
    "out_dir = 'COPPER5_CapCost_CTax_PopGrowth_all_False/outputs'\n",
    "copperDataset = COPPERDataset(in_dir,out_dir)"
   ]
  },
  {
   "cell_type": "code",
   "execution_count": 5,
   "metadata": {},
   "outputs": [],
   "source": [
    "input_idx_raw = copperDataset.get_input_index(0)\n",
    "output_idx_raw = copperDataset.get_output_index(0)\n",
    "for i in range(len(output_idx_raw)):\n",
    "    output_idx_raw[i].append(i)\n",
    "    \n",
    "for i in range(len(input_idx_raw)):\n",
    "    input_idx_raw[i].append(i)"
   ]
  },
  {
   "cell_type": "code",
   "execution_count": 6,
   "metadata": {},
   "outputs": [],
   "source": [
    "#Read all data on memory\n",
    "\n",
    "x = []\n",
    "y = []\n",
    "\n",
    "for idx in range(1000):\n",
    "    x1, y1 = copperDataset.__getitem__(idx)\n",
    "    x.append(np.array(x1.reshape(1,len(x1))))\n",
    "    y.append(np.array(y1.reshape(1,len(y1))))\n",
    "\n",
    "x_raw = np.array(np.vstack(x))\n",
    "y_raw = np.array(np.vstack(y))"
   ]
  },
  {
   "cell_type": "code",
   "execution_count": 7,
   "metadata": {},
   "outputs": [],
   "source": [
    "# Remove Nan\n",
    "x_p, input_p_idx = preprocess(x_raw, input_idx_raw)\n",
    "y_p, output_p_idx = preprocess(y_raw, output_idx_raw)"
   ]
  },
  {
   "cell_type": "code",
   "execution_count": 8,
   "metadata": {},
   "outputs": [],
   "source": [
    "# Normalization and Remove Outliers \n",
    "\n",
    "x_s, input_s_idx  = stdCleanup(x_p, input_p_idx)\n",
    "y_s, output_s_idx = stdCleanup(y_p, output_p_idx)\n",
    "\n",
    "x,mean_x,std_x = normalize(x_s)\n",
    "y,mean_y,std_y = normalize(y_s)\n",
    "\n",
    "# print(y_s.std(axis=0))"
   ]
  },
  {
   "cell_type": "code",
   "execution_count": null,
   "metadata": {},
   "outputs": [],
   "source": [
    "print(x.shape)\n",
    "print(y.shape)\n",
    "plot_hist(x,input_s_idx,'input_hist_norm')\n",
    "plot_hist(y,output_s_idx,'output_hist_norm')"
   ]
  },
  {
   "cell_type": "code",
   "execution_count": 9,
   "metadata": {},
   "outputs": [],
   "source": [
    "ignore_index = [51,54,60,65,68,86,87,91,94,112,118,119,134,168,171,182,185,203,204,208,211,229,235,236,285,295,299,325,327,328,347,349,351,352,353,354,368,384,385,386,393,394,395,407]\n",
    "# ignore_index = []\n",
    "tmp_index = [tmp_list[3] for tmp_list in output_s_idx]\n",
    "indices = np.where(np.in1d(tmp_index,ignore_index))[0]\n",
    "y_train_np = np.delete(y,indices,axis=1)\n",
    "y_train_idx = output_s_idx.copy()\n",
    "for i in sorted(indices, reverse=True):\n",
    "    del y_train_idx[i]\n",
    "\n",
    "x_train_np = x\n",
    "x_train_idx = input_s_idx.copy()\n",
    "mean_y_np = np.delete(mean_y,indices)\n",
    "std_y_np = np.delete(std_y,indices)"
   ]
  },
  {
   "cell_type": "code",
   "execution_count": 21,
   "metadata": {},
   "outputs": [],
   "source": [
    "# Write mean and std of data in a file \n",
    "\n",
    "df = pd.DataFrame(mean_x, columns = ['mean_x'])\n",
    "df = pd.concat([df, pd.DataFrame(std_x, columns = ['std_x'])], axis = 1)\n",
    "df = pd.concat([df, pd.DataFrame(mean_y_np, columns = ['mean_y'])], axis = 1)\n",
    "df = pd.concat([df, pd.DataFrame(std_y_np, columns = ['std_y'])], axis = 1)\n",
    "df.to_excel('Mean_std.xlsx',index=False)"
   ]
  },
  {
   "cell_type": "code",
   "execution_count": 10,
   "metadata": {},
   "outputs": [
    {
     "name": "stdout",
     "output_type": "stream",
     "text": [
      "torch.Size([1000, 38])\n",
      "torch.Size([1000, 57])\n"
     ]
    }
   ],
   "source": [
    "x_train = torch.tensor(x_train_np).float()\n",
    "y_train = torch.tensor(y_train_np).float()\n",
    "\n",
    "print(x_train.shape)\n",
    "print(y_train.shape)"
   ]
  },
  {
   "cell_type": "markdown",
   "metadata": {
    "tags": []
   },
   "source": [
    "##### Initialize "
   ]
  },
  {
   "cell_type": "code",
   "execution_count": 31,
   "metadata": {},
   "outputs": [
    {
     "name": "stdout",
     "output_type": "stream",
     "text": [
      "38\n",
      "57\n"
     ]
    }
   ],
   "source": [
    "dim_input,dim_output = x_train.shape[1],y_train.shape[1]\n",
    "print(dim_input)\n",
    "print(dim_output)\n",
    "num_epoch = 1000\n",
    "batch_size = 128\n",
    "lr = 1e-3"
   ]
  },
  {
   "cell_type": "code",
   "execution_count": 53,
   "metadata": {},
   "outputs": [],
   "source": [
    "# Split dataset to train, validation, and test sets\n",
    "\n",
    "test_ratio = 0.3\n",
    "valid_ratio = 0.1\n",
    "X_polt = x_train\n",
    "Y_polt = y_train\n",
    "\n",
    "x_train, x_test, y_train, y_test = train_test_split(x_train, y_train, test_size=test_ratio, random_state=1, shuffle=True)\n",
    "x_train, x_valid, y_train, y_valid = train_test_split(x_train, y_train, test_size=valid_ratio, random_state=1, shuffle=True)\n",
    "train_dataset = TensorDataset(x_train,y_train)\n",
    "valid_dataset = TensorDataset(x_valid,y_valid)\n",
    "test_dataset = TensorDataset(x_test,y_test)"
   ]
  },
  {
   "cell_type": "code",
   "execution_count": 12,
   "metadata": {},
   "outputs": [],
   "source": [
    "# Load saved model \n",
    "layers = [[block_1d,128,nn.ReLU,0]]\n",
    "dim_output = 57\n",
    "dim_input = 38\n",
    "num_blocks = 8\n",
    "\n",
    "for i in range(num_blocks):\n",
    "    layers.append([res_block_1d,128,nn.ReLU,0.2])  \n",
    " \n",
    "new_model = resnet.load_from_checkpoint(\"ModelAp29.ckpt\", in_dim = dim_input, out_dim = dim_output, layers = layers )"
   ]
  },
  {
   "cell_type": "code",
   "execution_count": null,
   "metadata": {},
   "outputs": [],
   "source": [
    "y = new_model (x_test)\n",
    "print(y[0])"
   ]
  },
  {
   "cell_type": "code",
   "execution_count": 63,
   "metadata": {},
   "outputs": [],
   "source": [
    "import matplotlib.pyplot as plt\n",
    "from importlib import reload\n",
    "plt=reload(plt)"
   ]
  },
  {
   "cell_type": "code",
   "execution_count": 64,
   "metadata": {},
   "outputs": [],
   "source": [
    "csfont = {'fontname':'Comic Sans MS'}\n",
    "hfont = {'fontname':'Helvetica'}\n",
    "\n",
    "# plt.title('title',**csfont)\n",
    "# plt.xlabel('xlabel', **hfont)\n",
    "# plt.show()"
   ]
  },
  {
   "cell_type": "code",
   "execution_count": 68,
   "metadata": {},
   "outputs": [],
   "source": [
    "from matplotlib import rc\n",
    "#rc('font',**{'family':'sans-serif','sans-serif':['Helvetica']})\n",
    "rc('font',**{'family':'serif','serif':['Cambria']})\n",
    "rc('text', usetex=True)"
   ]
  },
  {
   "cell_type": "code",
   "execution_count": 84,
   "metadata": {},
   "outputs": [
    {
     "data": {
      "image/png": "[encoded data removed]",
      "text/plain": [
       "<Figure size 432x288 with 1 Axes>"
      ]
     },
     "metadata": {
      "needs_background": "light"
     },
     "output_type": "display_data"
    }
   ],
   "source": [
    "i = 6\n",
    "s = 3\n",
    "predictions = new_model (x_test)\n",
    "predictions = predictions.detach()\n",
    "# y_test = y_test.detach().numpy\n",
    "# print(predictions.size)\n",
    "x, y = [-s, s],[-s, s]\n",
    "plt.scatter(y_test[:,i], predictions[:,i], marker='o',  facecolors='none', edgecolors= \"darkblue\")\n",
    "plt.plot(x, y, c='red') # Perfect prediction line\n",
    "# plt.title(\"\\n\".join(wrap(str(y_train_idx[i]), 30)), fontsize=15)\n",
    "plt.title('Carbon Emission - Manitoba 2030', fontsize=10)\n",
    "plt.xlabel('Actual', fontdict=None, labelpad=None)\n",
    "# xlabel('Actual', fontsize=10)\n",
    "plt.ylabel('Predicted', fontsize=10)\n",
    "plt.savefig(\"Regression_Carbon Emission - Manitoba 2030\", dpi=200)"
   ]
  },
  {
   "cell_type": "code",
   "execution_count": null,
   "metadata": {},
   "outputs": [],
   "source": [
    "# Launch TensorBoard\n",
    "\n",
    "%reload_ext tensorboard\n",
    "%tensorboard --logdir='./COPPER_runs/COPPER938/COPPER938_Linear_1000_128_/version_45' --host 0.0.0.0"
   ]
  },
  {
   "cell_type": "code",
   "execution_count": null,
   "metadata": {},
   "outputs": [],
   "source": [
    "!kill 29969"
   ]
  },
  {
   "cell_type": "code",
   "execution_count": null,
   "metadata": {},
   "outputs": [],
   "source": []
  }
 ],
 "metadata": {
  "colab": {
   "collapsed_sections": [],
   "name": "Linear_ Dataset_Dataloader_ COPPER.ipynb",
   "provenance": []
  },
  "kernelspec": {
   "display_name": "Python 3",
   "language": "python",
   "name": "python3"
  },
  "language_info": {
   "codemirror_mode": {
    "name": "ipython",
    "version": 3
   },
   "file_extension": ".py",
   "mimetype": "text/x-python",
   "name": "python",
   "nbconvert_exporter": "python",
   "pygments_lexer": "ipython3",
   "version": "3.6.10"
  },
  "widgets": {
   "application/vnd.jupyter.widget-state+json": {
    "0324c2fcd0884df885ed4e9b5b5f2d50": {
     "model_module": "@jupyter-widgets/controls",
     "model_module_version": "1.5.0",
     "model_name": "HBoxModel",
     "state": {
      "_dom_classes": [],
      "_model_module": "@jupyter-widgets/controls",
      "_model_module_version": "1.5.0",
      "_model_name": "HBoxModel",
      "_view_count": null,
      "_view_module": "@jupyter-widgets/controls",
      "_view_module_version": "1.5.0",
      "_view_name": "HBoxView",
      "box_style": "",
      "children": [
       "IPY_MODEL_aacb7a8b39004ccc82bcfe605d636424",
       "IPY_MODEL_af2f8fa1dd7a4e8cb3de22583c829450",
       "IPY_MODEL_d9ed91bed8a84353b3d3146386f0fd6b"
      ],
      "layout": "IPY_MODEL_6ab338c613cc4b7e892be9193722fd2b"
     }
    },
    "2760633429d64ddd8aedd695f41ac1b8": {
     "model_module": "@jupyter-widgets/base",
     "model_module_version": "1.2.0",
     "model_name": "LayoutModel",
     "state": {
      "_model_module": "@jupyter-widgets/base",
      "_model_module_version": "1.2.0",
      "_model_name": "LayoutModel",
      "_view_count": null,
      "_view_module": "@jupyter-widgets/base",
      "_view_module_version": "1.2.0",
      "_view_name": "LayoutView",
      "align_content": null,
      "align_items": null,
      "align_self": null,
      "border": null,
      "bottom": null,
      "display": null,
      "flex": null,
      "flex_flow": null,
      "grid_area": null,
      "grid_auto_columns": null,
      "grid_auto_flow": null,
      "grid_auto_rows": null,
      "grid_column": null,
      "grid_gap": null,
      "grid_row": null,
      "grid_template_areas": null,
      "grid_template_columns": null,
      "grid_template_rows": null,
      "height": null,
      "justify_content": null,
      "justify_items": null,
      "left": null,
      "margin": null,
      "max_height": null,
      "max_width": null,
      "min_height": null,
      "min_width": null,
      "object_fit": null,
      "object_position": null,
      "order": null,
      "overflow": null,
      "overflow_x": null,
      "overflow_y": null,
      "padding": null,
      "right": null,
      "top": null,
      "visibility": null,
      "width": null
     }
    },
    "4b39df8afd1a4de0989b57cdb2c34d98": {
     "model_module": "@jupyter-widgets/base",
     "model_module_version": "1.2.0",
     "model_name": "LayoutModel",
     "state": {
      "_model_module": "@jupyter-widgets/base",
      "_model_module_version": "1.2.0",
      "_model_name": "LayoutModel",
      "_view_count": null,
      "_view_module": "@jupyter-widgets/base",
      "_view_module_version": "1.2.0",
      "_view_name": "LayoutView",
      "align_content": null,
      "align_items": null,
      "align_self": null,
      "border": null,
      "bottom": null,
      "display": null,
      "flex": null,
      "flex_flow": null,
      "grid_area": null,
      "grid_auto_columns": null,
      "grid_auto_flow": null,
      "grid_auto_rows": null,
      "grid_column": null,
      "grid_gap": null,
      "grid_row": null,
      "grid_template_areas": null,
      "grid_template_columns": null,
      "grid_template_rows": null,
      "height": null,
      "justify_content": null,
      "justify_items": null,
      "left": null,
      "margin": null,
      "max_height": null,
      "max_width": null,
      "min_height": null,
      "min_width": null,
      "object_fit": null,
      "object_position": null,
      "order": null,
      "overflow": null,
      "overflow_x": null,
      "overflow_y": null,
      "padding": null,
      "right": null,
      "top": null,
      "visibility": null,
      "width": null
     }
    },
    "6ab338c613cc4b7e892be9193722fd2b": {
     "model_module": "@jupyter-widgets/base",
     "model_module_version": "1.2.0",
     "model_name": "LayoutModel",
     "state": {
      "_model_module": "@jupyter-widgets/base",
      "_model_module_version": "1.2.0",
      "_model_name": "LayoutModel",
      "_view_count": null,
      "_view_module": "@jupyter-widgets/base",
      "_view_module_version": "1.2.0",
      "_view_name": "LayoutView",
      "align_content": null,
      "align_items": null,
      "align_self": null,
      "border": null,
      "bottom": null,
      "display": "inline-flex",
      "flex": null,
      "flex_flow": "row wrap",
      "grid_area": null,
      "grid_auto_columns": null,
      "grid_auto_flow": null,
      "grid_auto_rows": null,
      "grid_column": null,
      "grid_gap": null,
      "grid_row": null,
      "grid_template_areas": null,
      "grid_template_columns": null,
      "grid_template_rows": null,
      "height": null,
      "justify_content": null,
      "justify_items": null,
      "left": null,
      "margin": null,
      "max_height": null,
      "max_width": null,
      "min_height": null,
      "min_width": null,
      "object_fit": null,
      "object_position": null,
      "order": null,
      "overflow": null,
      "overflow_x": null,
      "overflow_y": null,
      "padding": null,
      "right": null,
      "top": null,
      "visibility": null,
      "width": "100%"
     }
    },
    "6d6885ceb7f14b01b545b7c515ea6c9c": {
     "model_module": "@jupyter-widgets/base",
     "model_module_version": "1.2.0",
     "model_name": "LayoutModel",
     "state": {
      "_model_module": "@jupyter-widgets/base",
      "_model_module_version": "1.2.0",
      "_model_name": "LayoutModel",
      "_view_count": null,
      "_view_module": "@jupyter-widgets/base",
      "_view_module_version": "1.2.0",
      "_view_name": "LayoutView",
      "align_content": null,
      "align_items": null,
      "align_self": null,
      "border": null,
      "bottom": null,
      "display": null,
      "flex": "2",
      "flex_flow": null,
      "grid_area": null,
      "grid_auto_columns": null,
      "grid_auto_flow": null,
      "grid_auto_rows": null,
      "grid_column": null,
      "grid_gap": null,
      "grid_row": null,
      "grid_template_areas": null,
      "grid_template_columns": null,
      "grid_template_rows": null,
      "height": null,
      "justify_content": null,
      "justify_items": null,
      "left": null,
      "margin": null,
      "max_height": null,
      "max_width": null,
      "min_height": null,
      "min_width": null,
      "object_fit": null,
      "object_position": null,
      "order": null,
      "overflow": null,
      "overflow_x": null,
      "overflow_y": null,
      "padding": null,
      "right": null,
      "top": null,
      "visibility": null,
      "width": null
     }
    },
    "aacb7a8b39004ccc82bcfe605d636424": {
     "model_module": "@jupyter-widgets/controls",
     "model_module_version": "1.5.0",
     "model_name": "HTMLModel",
     "state": {
      "_dom_classes": [],
      "_model_module": "@jupyter-widgets/controls",
      "_model_module_version": "1.5.0",
      "_model_name": "HTMLModel",
      "_view_count": null,
      "_view_module": "@jupyter-widgets/controls",
      "_view_module_version": "1.5.0",
      "_view_name": "HTMLView",
      "description": "",
      "description_tooltip": null,
      "layout": "IPY_MODEL_2760633429d64ddd8aedd695f41ac1b8",
      "placeholder": "​",
      "style": "IPY_MODEL_c0f0d0bea2454516bdb5456a93478a1e",
      "value": "Validation sanity check: 100%"
     }
    },
    "af2f8fa1dd7a4e8cb3de22583c829450": {
     "model_module": "@jupyter-widgets/controls",
     "model_module_version": "1.5.0",
     "model_name": "FloatProgressModel",
     "state": {
      "_dom_classes": [],
      "_model_module": "@jupyter-widgets/controls",
      "_model_module_version": "1.5.0",
      "_model_name": "FloatProgressModel",
      "_view_count": null,
      "_view_module": "@jupyter-widgets/controls",
      "_view_module_version": "1.5.0",
      "_view_name": "ProgressView",
      "bar_style": "",
      "description": "",
      "description_tooltip": null,
      "layout": "IPY_MODEL_6d6885ceb7f14b01b545b7c515ea6c9c",
      "max": 1,
      "min": 0,
      "orientation": "horizontal",
      "style": "IPY_MODEL_e2b95a36db544e1b8cb5c5f0ca1becff",
      "value": 1
     }
    },
    "bdc16080c18e49239f84e9da8a5c994c": {
     "model_module": "@jupyter-widgets/controls",
     "model_module_version": "1.5.0",
     "model_name": "DescriptionStyleModel",
     "state": {
      "_model_module": "@jupyter-widgets/controls",
      "_model_module_version": "1.5.0",
      "_model_name": "DescriptionStyleModel",
      "_view_count": null,
      "_view_module": "@jupyter-widgets/base",
      "_view_module_version": "1.2.0",
      "_view_name": "StyleView",
      "description_width": ""
     }
    },
    "c0f0d0bea2454516bdb5456a93478a1e": {
     "model_module": "@jupyter-widgets/controls",
     "model_module_version": "1.5.0",
     "model_name": "DescriptionStyleModel",
     "state": {
      "_model_module": "@jupyter-widgets/controls",
      "_model_module_version": "1.5.0",
      "_model_name": "DescriptionStyleModel",
      "_view_count": null,
      "_view_module": "@jupyter-widgets/base",
      "_view_module_version": "1.2.0",
      "_view_name": "StyleView",
      "description_width": ""
     }
    },
    "d9ed91bed8a84353b3d3146386f0fd6b": {
     "model_module": "@jupyter-widgets/controls",
     "model_module_version": "1.5.0",
     "model_name": "HTMLModel",
     "state": {
      "_dom_classes": [],
      "_model_module": "@jupyter-widgets/controls",
      "_model_module_version": "1.5.0",
      "_model_name": "HTMLModel",
      "_view_count": null,
      "_view_module": "@jupyter-widgets/controls",
      "_view_module_version": "1.5.0",
      "_view_name": "HTMLView",
      "description": "",
      "description_tooltip": null,
      "layout": "IPY_MODEL_4b39df8afd1a4de0989b57cdb2c34d98",
      "placeholder": "​",
      "style": "IPY_MODEL_bdc16080c18e49239f84e9da8a5c994c",
      "value": " 1/1 [00:00&lt;00:00,  8.67it/s]"
     }
    },
    "e2b95a36db544e1b8cb5c5f0ca1becff": {
     "model_module": "@jupyter-widgets/controls",
     "model_module_version": "1.5.0",
     "model_name": "ProgressStyleModel",
     "state": {
      "_model_module": "@jupyter-widgets/controls",
      "_model_module_version": "1.5.0",
      "_model_name": "ProgressStyleModel",
      "_view_count": null,
      "_view_module": "@jupyter-widgets/base",
      "_view_module_version": "1.2.0",
      "_view_name": "StyleView",
      "bar_color": null,
      "description_width": ""
     }
    }
   }
  }
 },
 "nbformat": 4,
 "nbformat_minor": 4
}
