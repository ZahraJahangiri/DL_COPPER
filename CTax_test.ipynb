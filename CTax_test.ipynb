{
 "cells": [
  {
   "cell_type": "markdown",
   "metadata": {},
   "source": [
    "# Import"
   ]
  },
  {
   "cell_type": "code",
   "execution_count": 1,
   "metadata": {},
   "outputs": [],
   "source": [
    "import torch\n",
    "import torchvision\n",
    "from torchvision import transforms\n",
    "import torch.nn as nn\n",
    "import time\n",
    "import copy\n",
    "import torch.nn.functional as F\n",
    "import matplotlib.pyplot as plt\n",
    "import numpy as np\n",
    "import pandas as pd\n",
    "from sklearn.model_selection import train_test_split\n",
    "from torch.utils.data import Dataset, TensorDataset, DataLoader, random_split, SubsetRandomSampler\n",
    "import torchvision.models as models\n",
    "from torch.utils.tensorboard import SummaryWriter\n",
    "import pytorch_lightning as pl\n",
    "from pytorch_lightning import Trainer\n",
    "import os\n",
    "import re\n",
    "import shutil\n",
    "import sys\n",
    "import ipywidgets\n",
    "from scipy import stats\n",
    "from os import listdir\n",
    "from textwrap import wrap\n",
    "import statistics\n",
    "from sklearn.metrics import r2_score\n",
    "#from pytorch_lightning.callbacks import ModelCheckpoint"
   ]
  },
  {
   "cell_type": "code",
   "execution_count": null,
   "metadata": {},
   "outputs": [],
   "source": [
    "AVAIL_GPUS = torch.cuda.device_count()\n",
    "print(AVAIL_GPUS)\n",
    "device = torch.device('cuda' if torch.cuda.is_available() else 'cpu')"
   ]
  },
  {
   "cell_type": "code",
   "execution_count": 7,
   "metadata": {},
   "outputs": [],
   "source": [
    "# utility function for converting csv to xslx:\n",
    "\n",
    "#Convert input .csv files (annual_growth) to .xlsx\n",
    "# dir is input directory\n",
    "dir = 'tax_test/inputs'\n",
    "# dir = 'COPPER5_CapCost_CTax_PopGrowth_all_false_validation/inputs'\n",
    "CSV_Files = [file for file in listdir(dir) if file.endswith('.csv') and file.startswith('annual_growth')]\n",
    "for i in CSV_Files:\n",
    "    path = os.path.join(dir, i)\n",
    "    filename = os. path. splitext(i)[0]\n",
    "    info = pd.read_csv(path)\n",
    "    info.to_excel ('%s/%s.xlsx' %(dir,filename), index = None, header=True)\n",
    "    # os.remove(path)"
   ]
  },
  {
   "cell_type": "markdown",
   "metadata": {},
   "source": [
    "# Dataset Class"
   ]
  },
  {
   "cell_type": "code",
   "execution_count": 2,
   "metadata": {},
   "outputs": [],
   "source": [
    "# Remove Nan and replcae with mean\n",
    "def preprocess(data, idx_list):\n",
    "    tmp_data = np.asarray(data)\n",
    "    tmp_idx_list = idx_list.copy()\n",
    "    check = np.isnan(tmp_data).all(axis=0)\n",
    "    ind =  np.where(check == True)[0]\n",
    "    tmp_data = np.delete(tmp_data,ind,axis=1)\n",
    "    for j in sorted(ind, reverse=True):\n",
    "        del tmp_idx_list[int(j)]\n",
    "        \n",
    "#     Modify NaN values (missing values).\n",
    "    mean_vals = np.nanmean(tmp_data, axis=0)\n",
    "    inds = np.where(np.isnan(tmp_data))\n",
    "    tmp_data[inds] = np.take(mean_vals, inds[1])\n",
    "    return (tmp_data, tmp_idx_list)\n",
    "\n",
    "def removeOutliers(in_data,out_data,zscore = 5):\n",
    "    tmp_in_data = np.asarray(in_data)\n",
    "    tmp_out_data = np.copy(out_data)\n",
    "    ind = np.where(np.abs(tmp_out_data) > zscore)\n",
    "    tmp_out_data = np.delete(tmp_out_data,np.unique(ind[0]),axis=0)\n",
    "    tmp_in_data = np.delete(tmp_in_data,np.unique(ind[0]),axis=0)\n",
    "    return(tmp_in_data,tmp_out_data)\n",
    "\n",
    "def stdCleanup(data, idx_list, std_threshold = 1e-3):\n",
    "    tmp_data = np.asarray(data)\n",
    "    tmp_idx_list = idx_list.copy()\n",
    "    ind = np.where(tmp_data.std(axis=0) < std_threshold)[0]\n",
    "    tmp_data = np.delete(tmp_data,ind,axis=1)\n",
    "    for j in sorted(ind, reverse=True):\n",
    "        del tmp_idx_list[int(j)]\n",
    "    return (tmp_data, tmp_idx_list)\n",
    "\n",
    "def normalize(data):\n",
    "    tmp_data = np.asarray(data)\n",
    "    data_mean = tmp_data.mean(axis=0)\n",
    "    data_std = tmp_data.std(axis=0)\n",
    "    \n",
    "    data_std[data_std < 1e-8] = 1 \n",
    "    \n",
    "    ind_min = np.where(tmp_data.min(axis=0) == 0)[0]\n",
    "    ind_max = np.where(tmp_data.max(axis=0) == 1)[0]\n",
    "    ind = np.intersect1d(ind_min,ind_max)\n",
    "    data_mean[ind] = 0\n",
    "    data_std[ind] = 1\n",
    "    \n",
    "    tmp_data = (tmp_data-data_mean)/data_std\n",
    "    return tmp_data,data_mean,data_std\n",
    "\n",
    "#plot histogram function\n",
    "def plot_hist(data,data_idx,plot_name): \n",
    "    num_plot = 50\n",
    "    num_col = 5\n",
    "    num_row = int(np.ceil(num_plot/num_col))\n",
    "\n",
    "    num_figures = int(np.ceil((data.shape[1])/num_plot))\n",
    "\n",
    "    for n in range(num_figures):\n",
    "        fig, axs = plt.subplots(num_row, num_col, figsize=(20, 20)) # Need to change this depending on the # of outputs. In this case, we have 10 total\n",
    "        row = 0\n",
    "        col = 0\n",
    "        count = 0\n",
    "        start_index = num_plot*n\n",
    "        end_index = num_plot*(n+1)\n",
    "        \n",
    "        for m in range(start_index, end_index):\n",
    "            if m> (data.shape[1]-1):\n",
    "                break\n",
    "\n",
    "            axs[row, col].hist(data[:,m], bins=50, histtype = 'bar')#, rwidth= 40)\n",
    "            axs[row, col].grid()\n",
    "            title = \"\\n\".join(wrap(str(data_idx[m][:]), 120))\n",
    "            axs[row, col].set_title(\"\\n\".join(wrap(str(data_idx[m][:]), 30)), fontsize=10)\n",
    "            plt.subplots_adjust(left=0.1,\n",
    "                        bottom=0.1, \n",
    "                        right=0.9, \n",
    "                        top=0.9, \n",
    "                        wspace=0.4, \n",
    "                        hspace=1.4)\n",
    "            count = count+1\n",
    "            row = row + 1\n",
    "            if row == num_row: # Also need to change this depending on # of outputs and desired output structure\n",
    "                col = col +1\n",
    "                row = 0\n",
    "        for ax in axs.flat:\n",
    "            ax.set(xlabel='bin', ylabel='Frequency')\n",
    "\n",
    "        plt.savefig(\"%s/%d.jpg\" % (plot_name,n), dpi=100)\n",
    "    "
   ]
  },
  {
   "cell_type": "code",
   "execution_count": null,
   "metadata": {},
   "outputs": [],
   "source": [
    "#Dataset class for 100 test dataset "
   ]
  },
  {
   "cell_type": "code",
   "execution_count": 3,
   "metadata": {},
   "outputs": [],
   "source": [
    "class COPPERDataset(Dataset):\n",
    "\n",
    "    def __init__(self, input_dir, output_dir):#, transform=None):       \n",
    "        self.input_dir = input_dir\n",
    "        self.output_dir = output_dir\n",
    "        # create list of output folder names\n",
    "        # count number of data points\n",
    "        self.output_list = []\n",
    "        self.run_numbers = []\n",
    "        for dirname in os.listdir(self.output_dir):\n",
    "#             numbers = re.findall(\"(\\d+)_outputs_\", dirname)\n",
    "            numbers = re.findall(\"(\\d+)_ct\", dirname)\n",
    "            if not numbers: continue\n",
    "            \n",
    "            self.output_list.append(dirname)\n",
    "            self.run_numbers.append(numbers[0])\n",
    "            dir = '/content'\n",
    "\n",
    "\n",
    "        self.input_files_dict = {'Generation_type_data' : [1,'.xlsx', ['max_cap_fact',\n",
    "                                                                               'min_cap_fact',\n",
    "                                                                               'ramp_rate_percent', \n",
    "                                                                               'efficiency', \n",
    "                                                                               'fuel_co2', \n",
    "                                                                               'fixed_o_m', \n",
    "                                                                               'variable_o_m', \n",
    "                                                                               'fuelprice', \n",
    "                                                                               'capitalcost']],\n",
    "                        'COPPER_configuration' : [1,'.xlsx',['Value']],'annual_growth' : [1, '.xlsx', ['2030','2040','2050']]}\n",
    "        self.output_files_dict = {'carbon_ap': [1,'.xlsx',['2030','2040','2050']],\n",
    "                    'Total_Generation_ABA': \n",
    "                           [1,'.xlsx',['British Columbia.a',\n",
    "                           'Alberta.a',\n",
    "                            'Saskatchewan.a',\n",
    "                            'Manitoba.a',\n",
    "                            'Ontario.a',\n",
    "                            'Ontario.b',\n",
    "                            'Quebec.a',\n",
    "                            'Quebec.b',\n",
    "                            'New Brunswick.a',\n",
    "                            'Newfoundland and Labrador.a',\n",
    "                            'Newfoundland and Labrador.b',\n",
    "                            'Nova Scotia.a',\n",
    "                            'Prince Edward Island.a']],\n",
    "                    'Canada_gen_outline': [1,'.xlsx',['2030','2040','2050']]}\n",
    "\n",
    "    def __read_inputs__(self,idx):\n",
    "        input_dict = {}\n",
    "        input = torch.empty(0)\n",
    "        run_number = self.run_numbers[idx]\n",
    "        for key in self.input_files_dict.keys():\n",
    "            if key == 'annual_growth':\n",
    "                input_dict[key]= pd.read_excel('tax_test/inputs/annual_growth.xlsx', header = 0, usecols = self.input_files_dict[key][2],engine='openpyxl')  \n",
    "                input = torch.cat((input,torch.from_numpy(input_dict[key].values).float().flatten()))\n",
    "            elif key == 'Generation_type_data':\n",
    "                input_dict[key]= pd.read_excel('tax_test/inputs/Generation_type_data.xlsx', header = 0, usecols = self.input_files_dict[key][2],engine='openpyxl')  \n",
    "                input = torch.cat((input,torch.from_numpy(input_dict[key].values).float().flatten()))\n",
    "                \n",
    "            else:\n",
    "                filename = key + '_'+ str(run_number) + self.input_files_dict[key][1] \n",
    "                filename_path = os.path.join(self.input_dir, filename)\n",
    "                # Maybe need adding a line to check if this file or column exist then read\n",
    "                input_dict[key]= pd.read_excel(filename_path, header = 0, usecols = self.input_files_dict[key][2],engine='openpyxl')\n",
    "                input = torch.cat((input,torch.from_numpy(input_dict[key].values).float().flatten()))\n",
    "        filename = 'Generation_type_data.xlsx'\n",
    "        filename_path = os.path.join(self.input_dir, filename)\n",
    "        input_dict['Is thermal?']=  pd.read_excel(filename_path, header = 0, usecols = ['Is thermal?'],engine='openpyxl').astype(int) \n",
    "        input = torch.cat((input,torch.from_numpy(input_dict['Is thermal?'].values).float().flatten()))\n",
    "        return input\n",
    "\n",
    "    def __read_outputs__(self,idx):\n",
    "        output_dict = {}\n",
    "        output =  torch.empty(0)\n",
    "        path = os.path.join(self.output_dir, self.output_list[idx])\n",
    "        for key in self.output_files_dict.keys():\n",
    "            filename = key + self.output_files_dict[key][1]\n",
    "            filename_path = os.path.join(path, filename)\n",
    "            output_dict[key] = pd.read_excel(filename_path, header = 0, usecols = self.output_files_dict[key][2],engine='openpyxl')\n",
    "            output = torch.cat((output,torch.from_numpy(output_dict[key].values).float().flatten()))\n",
    "\n",
    "        return output\n",
    "\n",
    "    def get_input_index(self,idx):\n",
    "        input_dict = {}\n",
    "        input = torch.empty(0)\n",
    "        run_number = self.run_numbers[idx]\n",
    "        index = []\n",
    "        for key in self.input_files_dict.keys():\n",
    "            if key == 'annual_growth':\n",
    "                input_dict[key]= pd.read_excel('tax_test/inputs/annual_growth.xlsx', header = 0, usecols = self.input_files_dict[key][2],engine='openpyxl')  \n",
    "                row,col = input_dict[key].shape\n",
    "                row_index =  np.repeat(np.matrix(np.arange(row)).transpose(),[col],axis=1)\n",
    "                col_index = np.repeat(np.matrix(np.arange(col)),[row],axis=0) \n",
    "                row_index_flatten = row_index.flatten()\n",
    "                col_index_flatten = col_index.flatten()\n",
    "                index=index+[['annual_growth',row_index_flatten.item(i),col_index_flatten.item(i)] for i in range(row_index_flatten.size)]\n",
    "            elif key == 'Generation_type_data':\n",
    "                input_dict[key]= pd.read_excel('tax_test/inputs/Generation_type_data.xlsx', header = 0, usecols = self.input_files_dict[key][2],engine='openpyxl')  \n",
    "                row,col = input_dict[key].shape\n",
    "                row_index =  np.repeat(np.matrix(np.arange(row)).transpose(),[col],axis=1)\n",
    "                col_index = np.repeat(np.matrix(np.arange(col)),[row],axis=0) \n",
    "                row_index_flatten = row_index.flatten()\n",
    "                col_index_flatten = col_index.flatten()\n",
    "                index=index+[['Generation_type_data',row_index_flatten.item(i),col_index_flatten.item(i)] for i in range(row_index_flatten.size)]    \n",
    "            else:\n",
    "            \n",
    "                filename = key + '_'+ str(run_number) + self.input_files_dict[key][1] \n",
    "                filename_path = os.path.join(self.input_dir, filename)\n",
    "                # Maybe need adding a line to check if this file or column exist then read\n",
    "                input_dict[key]= pd.read_excel(filename_path, header = 0, usecols = self.input_files_dict[key][2],engine='openpyxl')\n",
    "                row,col = input_dict[key].shape\n",
    "                row_index =  np.repeat(np.matrix(np.arange(row)).transpose(),[col],axis=1)\n",
    "                col_index = np.repeat(np.matrix(np.arange(col)),[row],axis=0) \n",
    "                row_index_flatten = row_index.flatten()\n",
    "                col_index_flatten = col_index.flatten()\n",
    "                index=index+[[filename,row_index_flatten.item(i),col_index_flatten.item(i)] for i in range(row_index_flatten.size)]\n",
    "        \n",
    "        filename = 'Generation_type_data.xlsx'\n",
    "        filename_path = os.path.join(self.input_dir, filename)\n",
    "        input_dict['Is thermal?']=  pd.read_excel(filename_path, header = 0, usecols = ['Is thermal?'],engine='openpyxl').astype(int) \n",
    "        row,col = input_dict['Is thermal?'].shape\n",
    "        row_index =  np.repeat(np.matrix(np.arange(row)).transpose(),[col],axis=1)\n",
    "        col_index = np.repeat(np.matrix(np.arange(col)),[row],axis=0) \n",
    "        row_index_flatten = row_index.flatten()\n",
    "        col_index_flatten = col_index.flatten()\n",
    "        index=index+[[filename,row_index_flatten.item(i),col_index_flatten.item(i)] for i in range(row_index_flatten.size)]\n",
    "        return index\n",
    "    \n",
    "    def get_output_index(self,idx):\n",
    "        output_dict = {}\n",
    "        output =  torch.empty(0)\n",
    "        index = []\n",
    "        path = os.path.join(self.output_dir, self.output_list[idx])\n",
    "        for key in self.output_files_dict.keys():\n",
    "            filename = key + self.output_files_dict[key][1]\n",
    "            filename_path = os.path.join(path, filename)\n",
    "            output_dict[key] = pd.read_excel(filename_path, header = 0, usecols = self.output_files_dict[key][2],engine='openpyxl')\n",
    "            output_dict_rows= pd.read_excel(filename_path, header = 0, usecols = [0],engine='openpyxl')\n",
    "            output_dict_rows= output_dict_rows.values.tolist()\n",
    "            headers = output_dict[key].columns\n",
    "            headers = headers.tolist()\n",
    "            row,col = output_dict[key].shape\n",
    "            row_index =  np.repeat(np.matrix(np.arange(row)).transpose(),[col],axis=1)\n",
    "            col_index = np.repeat(np.matrix(np.arange(col)),[row],axis=0) \n",
    "            row_index_flatten = row_index.flatten()\n",
    "            col_index_flatten = col_index.flatten()\n",
    "            index=index+[[filename,output_dict_rows[row_index_flatten.item(i)], \n",
    "                          headers[col_index_flatten.item(i)]] for i in range(row_index_flatten.size)]\n",
    "    \n",
    "        return index\n",
    "\n",
    "    def __len__(self):\n",
    "        # return len(self.run_numbers)\n",
    "        return 1000\n",
    "\n",
    "    def __getitem__(self, idx):\n",
    "        input = self.__read_inputs__(idx)\n",
    "        output = self.__read_outputs__(idx)\n",
    "        return input,output"
   ]
  },
  {
   "cell_type": "code",
   "execution_count": 6,
   "metadata": {},
   "outputs": [],
   "source": [
    "# x_raw.shape[1] = 138\n",
    "ignore_input_idx_list = [0, 1, 2, 3, 4, 5, 6, 7, 9, 10, 11, 12, 13, 14, 15, 16, 18, 19, 20, 21, 22, 23, 24, 25, 27, 28, 29, 30, 31, 33, 34, 36, 37, 38, 39, 40, 41, 42, 43, 45, 46, 47, 48, 49, 50, 51, 52, 54, 55, 56, 57, \n",
    "                         58, 59, 60, 61, 63, 64, 65, 66, 67, 68, 69, 70, 72, 73, 74, 75, 76, 77, 78, 79, 80, 81, 82, 83, 84, 86, 87, 88, 89, 90, 91, 92, 93, 94, 95, 96, 97, 98, 111, 129, 130, 131, 132, 133, 134, 135, 136,\n",
    "                         137]"
   ]
  },
  {
   "cell_type": "code",
   "execution_count": 7,
   "metadata": {},
   "outputs": [],
   "source": [
    "# y_raw.shape[1] = 408\n",
    "ignore_output_idx_list = [0, 1, 2, 30, 31, 32, 33, 34, 35, 36, 37, 38, 39, 40, 41, 42, 43, 44, 45, 46, 47, 48, 49, 50, 51, 52, 53, 54, 55, 56, 60, 61, 63, 65, 66, 68, 69, 70, 71, 72, 73, 74, 75, 76, 77, 78, 79, 80, 81, 82,\n",
    "                          83, 84, 85, 86, 87, 88, 89, 90, 91, 92, 93, 94, 95, 96, 97, 98, 99, 100, 101, 102, 103, 104, 105, 106, 107, 108, 109, 110, 111, 112, 113, 114, 115, 116, 117, 118, 119, 121, 122, 123, 124, 125, 126,\n",
    "                          127, 128, 129, 130, 131, 132, 133, 134, 135, 136, 137, 138, 139, 140, 141, 142, 143, 144, 145, 146, 147, 148, 149, 150, 151, 152, 153, 154, 155, 156, 157, 158, 159, 160, 161, 162, 163, 164, 165, 166,\n",
    "                          167, 168, 169, 170, 171, 172, 173, 178, 180, 182, 183, 185, 186, 187, 188, 189, 190, 191, 192, 193, 194, 195, 196, 197, 198, 199, 200, 201, 202, 203, 204, 205, 206, 207, 208, 209, 210, 211, 212, 213,\n",
    "                          214, 215, 216, 217, 218, 219, 220, 221, 222, 223, 224, 225, 226, 227, 228, 229, 230, 231, 232, 233, 234, 235, 236, 238, 239, 240, 241, 242, 243, 244, 245, 246, 247, 248, 249, 250, 251, 252, 253, 254,\n",
    "                          255, 256, 257, 258, 259, 260, 261, 262, 263, 264, 265, 266, 267, 268, 269, 270, 271, 272, 273, 274, 275, 276, 277, 278, 279, 280, 281, 282, 283, 284, 285, 286, 287, 288, 289, 290, 295, 297, 299, 300,\n",
    "                          303, 304, 305, 306, 307, 308, 309, 310, 311, 312, 313, 314, 315, 316, 317, 318, 319, 320, 321, 322, 323, 324, 325, 326, 327, 328, 329, 330, 331, 332, 333, 334, 335, 336, 337, 338, 339, 340, 341, 342,\n",
    "                          343, 344, 345, 347, 348, 349, 350, 351, 352, 353, 354, 355, 356, 357, 358, 359, 360, 361, 362, 363, 364, 365, 366, 367, 368, 369, 370, 371, 372, 373, 374, 375, 376, 377, 378, 379, 380, 381, 382, 383,\n",
    "                          384, 385, 386, 390, 391, 392, 393, 394, 395, 396, 397, 398, 402, 403, 404, 405, 406, 407]"
   ]
  },
  {
   "cell_type": "code",
   "execution_count": 4,
   "metadata": {},
   "outputs": [],
   "source": [
    "remove_list_x1 = [54, 55, 56, 57, 58, 61, 63, 64, 65, 66, 67, 70, 72, 73, 74, 75, 76, 79, 80]\n",
    "remove_list_y1 = []"
   ]
  },
  {
   "cell_type": "code",
   "execution_count": 5,
   "metadata": {},
   "outputs": [],
   "source": [
    "remove_list_x2 = [  0,   1,   2,   3,   4,   5,   6,   7,   9,  10,  11 , 12,  13,  14,  15,  16,  18,  19,\n",
    "  20,  21,  22,  23,  24,  25,  27,  28,  29,  30,  31,  33,  34,  36,  37,  38,  39,  40,\n",
    "  41,  42,  43,  45,  46,  47,  48,  49,  50,  51,  52,  54,  55,  57,  58,  60,  61,  62,\n",
    "  63,  64,  65,  67,  68,  69,  70,  71,  72,  73,  74,  75,  76,  77,  78,  79,  92, 110,\n",
    " 111, 112, 113, 114, 115, 116, 117, 118]\n",
    "\n",
    "remove_list_y2 = [  0 ,  1,   2,  30,  31,  32,  33,  34,  35,  36,  37,  38,  39,  40,  41,  42,  43,  44,\n",
    "  45,  46,  47,  48,  49,  50,  52,  53,  55,  56,  61,  63,  66,  69,  70,  71,  72,  73,\n",
    "  74,  75,  76,  77,  78,  79,  80,  81,  82,  83,  84,  85,  88,  89,  90,  92,  93,  95,\n",
    "  96,  97,  98,  99, 100, 101, 102, 103, 104, 105, 106, 107, 108, 109, 110, 111, 113, 114,\n",
    " 115, 116, 117, 121, 122, 123, 124, 125, 126, 127, 128, 129, 130, 131, 132, 133, 135, 136,\n",
    " 137, 138, 139, 140, 141, 142, 143, 144, 145, 146, 147, 148, 149, 150, 151, 152, 153, 154,\n",
    " 155, 156, 157, 158, 159, 160, 161, 162, 163, 164, 165, 166, 167, 169, 170, 172, 173, 178,\n",
    " 180, 183, 186, 187, 188, 189, 190, 191, 192, 193, 194, 195, 196, 197, 198, 199, 200, 201,\n",
    " 202, 205, 206, 207, 209, 210, 212, 213, 214, 215, 216, 217, 218, 219, 220, 221, 222, 223,\n",
    " 224, 225, 226, 227, 228, 230, 231, 232, 233, 234, 238, 239, 240, 241, 242, 243, 244, 245,\n",
    " 246, 247, 248, 249, 250, 251, 252, 253, 254, 255, 256, 257, 258, 259, 260, 261, 262, 263,\n",
    " 264, 265, 266, 267, 268, 269, 270, 271, 272, 273, 274, 275, 276, 277, 278, 279, 280, 281,\n",
    " 282, 283, 284, 286, 287, 288, 289, 290, 297, 300, 303, 304, 305, 306, 307, 308, 309, 310,\n",
    " 311, 312, 313, 314, 315, 316, 317, 318, 319, 320, 321, 322, 323, 324, 326, 329, 330, 331,\n",
    " 332, 333, 334, 335, 336, 337, 338, 339, 340, 341, 342, 343, 344, 345, 348, 350, 355, 356,\n",
    " 357, 358, 359, 360, 361, 362, 363, 364, 365, 366, 367, 369, 370, 371, 372, 373, 374, 375,\n",
    " 376, 377, 378, 379, 380, 381, 382, 383, 390, 391, 392, 396, 397, 398, 402, 403, 404, 405,\n",
    " 406]"
   ]
  },
  {
   "cell_type": "code",
   "execution_count": 6,
   "metadata": {},
   "outputs": [],
   "source": [
    "ignore_y = [ 27,  28,  32,  35,  37,  38,  39,  40,  41,  42,  43,  44,  46,  47,  48,  55,  57,  58,\n",
    "  59,  60,  61,  62,  63,  64,  66,  71,  74,  77,  78,  79,  81,  82,  83,  84,  85,  86,\n",
    "  87,  88,  89,  90,  94,  95,  96, 100]"
   ]
  },
  {
   "cell_type": "code",
   "execution_count": null,
   "metadata": {},
   "outputs": [],
   "source": [
    "## Read, Ignore idx, Normalize the new data with the previous mean and std"
   ]
  },
  {
   "cell_type": "code",
   "execution_count": 7,
   "metadata": {},
   "outputs": [],
   "source": [
    "def remove(data, raw_idx, idx_list):\n",
    "    tmp_data = np.asarray(data)\n",
    "    tmp_idx_list = idx_list.copy()\n",
    "    tmp_data = np.delete(tmp_data,idx_list,axis=1)\n",
    "    for j in sorted(tmp_idx_list, reverse=True):\n",
    "        del raw_idx[int(j)]\n",
    "    return (tmp_data, raw_idx)  "
   ]
  },
  {
   "cell_type": "code",
   "execution_count": 8,
   "metadata": {},
   "outputs": [],
   "source": [
    "def normalize_new(data, mean, std):\n",
    "    tmp_data = np.asarray(data)\n",
    "    data_mean = mean\n",
    "    data_std = std\n",
    "    \n",
    "    data_std[data_std < 1e-8] = 1   \n",
    "    tmp_data = (tmp_data-data_mean)/data_std\n",
    "    return tmp_data"
   ]
  },
  {
   "cell_type": "code",
   "execution_count": 9,
   "metadata": {},
   "outputs": [],
   "source": [
    "# Creat a dataset object\n",
    "in_dir = 'tax_test/inputs'\n",
    "out_dir = 'tax_test/outputs'\n",
    "copperDataset = COPPERDataset(in_dir,out_dir)"
   ]
  },
  {
   "cell_type": "code",
   "execution_count": 10,
   "metadata": {},
   "outputs": [],
   "source": [
    "input_idx_raw = copperDataset.get_input_index(0)\n",
    "output_idx_raw = copperDataset.get_output_index(0)"
   ]
  },
  {
   "cell_type": "code",
   "execution_count": 11,
   "metadata": {},
   "outputs": [],
   "source": [
    "#Read all data on memory\n",
    "\n",
    "x = []\n",
    "y = []\n",
    "\n",
    "for idx in range(100):\n",
    "    x1, y1 = copperDataset.__getitem__(idx)\n",
    "    x.append(np.array(x1.reshape(1,len(x1))))\n",
    "    y.append(np.array(y1.reshape(1,len(y1))))\n",
    "\n",
    "x_new_raw = np.array(np.vstack(x))\n",
    "y_new_raw = np.array(np.vstack(y))"
   ]
  },
  {
   "cell_type": "code",
   "execution_count": 12,
   "metadata": {},
   "outputs": [],
   "source": [
    "for i in range(len(output_idx_raw)):\n",
    "    output_idx_raw[i].append(i)\n",
    "    \n",
    "for i in range(len(input_idx_raw)):\n",
    "    input_idx_raw[i].append(i)"
   ]
  },
  {
   "cell_type": "code",
   "execution_count": 13,
   "metadata": {},
   "outputs": [],
   "source": [
    "x_new_raw, input_new_idx = remove(x_new_raw, input_idx_raw, remove_list_x1 )\n",
    "y_new_raw, output_new_idx = remove(y_new_raw, output_idx_raw, remove_list_y1 )"
   ]
  },
  {
   "cell_type": "code",
   "execution_count": 14,
   "metadata": {},
   "outputs": [
    {
     "name": "stdout",
     "output_type": "stream",
     "text": [
      "119\n"
     ]
    }
   ],
   "source": [
    "print(len(input_new_idx))"
   ]
  },
  {
   "cell_type": "code",
   "execution_count": 15,
   "metadata": {},
   "outputs": [],
   "source": [
    "x_new_raw, input_new_idx = remove(x_new_raw, input_idx_raw, remove_list_x2 )\n",
    "y_new_raw, output_new_idx = remove(y_new_raw, output_idx_raw, remove_list_y2 )"
   ]
  },
  {
   "cell_type": "code",
   "execution_count": 83,
   "metadata": {},
   "outputs": [
    {
     "name": "stdout",
     "output_type": "stream",
     "text": [
      "[['carbon_ap.xlsx', ['British Columbia'], '2030', 0], ['carbon_ap.xlsx', ['British Columbia'], '2040', 1], ['carbon_ap.xlsx', ['British Columbia'], '2050', 2], ['carbon_ap.xlsx', ['Alberta'], '2030', 3], ['carbon_ap.xlsx', ['Alberta'], '2040', 4], ['carbon_ap.xlsx', ['Alberta'], '2050', 5], ['carbon_ap.xlsx', ['Saskatchewan'], '2030', 6], ['carbon_ap.xlsx', ['Saskatchewan'], '2040', 7], ['carbon_ap.xlsx', ['Saskatchewan'], '2050', 8], ['carbon_ap.xlsx', ['Manitoba'], '2030', 9], ['carbon_ap.xlsx', ['Manitoba'], '2040', 10], ['carbon_ap.xlsx', ['Manitoba'], '2050', 11], ['carbon_ap.xlsx', ['Ontario'], '2030', 12], ['carbon_ap.xlsx', ['Ontario'], '2040', 13], ['carbon_ap.xlsx', ['Ontario'], '2050', 14], ['carbon_ap.xlsx', ['Quebec'], '2030', 15], ['carbon_ap.xlsx', ['Quebec'], '2040', 16], ['carbon_ap.xlsx', ['Quebec'], '2050', 17], ['carbon_ap.xlsx', ['New Brunswick'], '2030', 18], ['carbon_ap.xlsx', ['New Brunswick'], '2040', 19], ['carbon_ap.xlsx', ['New Brunswick'], '2050', 20], ['carbon_ap.xlsx', ['Newfoundland and Labrador'], '2030', 21], ['carbon_ap.xlsx', ['Newfoundland and Labrador'], '2040', 22], ['carbon_ap.xlsx', ['Newfoundland and Labrador'], '2050', 23], ['carbon_ap.xlsx', ['Nova Scotia'], '2030', 24], ['carbon_ap.xlsx', ['Nova Scotia'], '2040', 25], ['carbon_ap.xlsx', ['Nova Scotia'], '2050', 26], ['carbon_ap.xlsx', ['Prince Edward Island'], '2030', 27], ['carbon_ap.xlsx', ['Prince Edward Island'], '2040', 28], ['carbon_ap.xlsx', ['Prince Edward Island'], '2050', 29], ['Total_Generation_ABA.xlsx', ['coal'], 'British Columbia.a', 30], ['Total_Generation_ABA.xlsx', ['coal'], 'Alberta.a', 31], ['Total_Generation_ABA.xlsx', ['coal'], 'Saskatchewan.a', 32], ['Total_Generation_ABA.xlsx', ['coal'], 'Manitoba.a', 33], ['Total_Generation_ABA.xlsx', ['coal'], 'Ontario.a', 34], ['Total_Generation_ABA.xlsx', ['coal'], 'Ontario.b', 35], ['Total_Generation_ABA.xlsx', ['coal'], 'Quebec.a', 36], ['Total_Generation_ABA.xlsx', ['coal'], 'Quebec.b', 37], ['Total_Generation_ABA.xlsx', ['coal'], 'New Brunswick.a', 38], ['Total_Generation_ABA.xlsx', ['coal'], 'Newfoundland and Labrador.a', 39], ['Total_Generation_ABA.xlsx', ['coal'], 'Newfoundland and Labrador.b', 40], ['Total_Generation_ABA.xlsx', ['coal'], 'Nova Scotia.a', 41], ['Total_Generation_ABA.xlsx', ['coal'], 'Prince Edward Island.a', 42], ['Total_Generation_ABA.xlsx', ['diesel'], 'British Columbia.a', 43], ['Total_Generation_ABA.xlsx', ['diesel'], 'Alberta.a', 44], ['Total_Generation_ABA.xlsx', ['diesel'], 'Saskatchewan.a', 45], ['Total_Generation_ABA.xlsx', ['diesel'], 'Manitoba.a', 46], ['Total_Generation_ABA.xlsx', ['diesel'], 'Ontario.a', 47], ['Total_Generation_ABA.xlsx', ['diesel'], 'Ontario.b', 48], ['Total_Generation_ABA.xlsx', ['diesel'], 'Quebec.a', 49], ['Total_Generation_ABA.xlsx', ['diesel'], 'Quebec.b', 50], ['Total_Generation_ABA.xlsx', ['diesel'], 'New Brunswick.a', 51], ['Total_Generation_ABA.xlsx', ['diesel'], 'Newfoundland and Labrador.a', 52], ['Total_Generation_ABA.xlsx', ['diesel'], 'Newfoundland and Labrador.b', 53], ['Total_Generation_ABA.xlsx', ['diesel'], 'Nova Scotia.a', 54], ['Total_Generation_ABA.xlsx', ['diesel'], 'Prince Edward Island.a', 55], ['Total_Generation_ABA.xlsx', ['gas'], 'British Columbia.a', 56], ['Total_Generation_ABA.xlsx', ['gas'], 'Alberta.a', 57], ['Total_Generation_ABA.xlsx', ['gas'], 'Saskatchewan.a', 58], ['Total_Generation_ABA.xlsx', ['gas'], 'Manitoba.a', 59], ['Total_Generation_ABA.xlsx', ['gas'], 'Ontario.a', 60], ['Total_Generation_ABA.xlsx', ['gas'], 'Ontario.b', 61], ['Total_Generation_ABA.xlsx', ['gas'], 'Quebec.a', 62], ['Total_Generation_ABA.xlsx', ['gas'], 'Quebec.b', 63], ['Total_Generation_ABA.xlsx', ['gas'], 'New Brunswick.a', 64], ['Total_Generation_ABA.xlsx', ['gas'], 'Newfoundland and Labrador.a', 65], ['Total_Generation_ABA.xlsx', ['gas'], 'Newfoundland and Labrador.b', 66], ['Total_Generation_ABA.xlsx', ['gas'], 'Nova Scotia.a', 67], ['Total_Generation_ABA.xlsx', ['gas'], 'Prince Edward Island.a', 68], ['Total_Generation_ABA.xlsx', ['nuclear'], 'British Columbia.a', 69], ['Total_Generation_ABA.xlsx', ['nuclear'], 'Alberta.a', 70], ['Total_Generation_ABA.xlsx', ['nuclear'], 'Saskatchewan.a', 71], ['Total_Generation_ABA.xlsx', ['nuclear'], 'Manitoba.a', 72], ['Total_Generation_ABA.xlsx', ['nuclear'], 'Ontario.a', 73], ['Total_Generation_ABA.xlsx', ['nuclear'], 'Ontario.b', 74], ['Total_Generation_ABA.xlsx', ['nuclear'], 'Quebec.a', 75], ['Total_Generation_ABA.xlsx', ['nuclear'], 'Quebec.b', 76], ['Total_Generation_ABA.xlsx', ['nuclear'], 'New Brunswick.a', 77], ['Total_Generation_ABA.xlsx', ['nuclear'], 'Newfoundland and Labrador.a', 78], ['Total_Generation_ABA.xlsx', ['nuclear'], 'Newfoundland and Labrador.b', 79], ['Total_Generation_ABA.xlsx', ['nuclear'], 'Nova Scotia.a', 80], ['Total_Generation_ABA.xlsx', ['nuclear'], 'Prince Edward Island.a', 81], ['Total_Generation_ABA.xlsx', ['peaker'], 'British Columbia.a', 82], ['Total_Generation_ABA.xlsx', ['peaker'], 'Alberta.a', 83], ['Total_Generation_ABA.xlsx', ['peaker'], 'Saskatchewan.a', 84], ['Total_Generation_ABA.xlsx', ['peaker'], 'Manitoba.a', 85], ['Total_Generation_ABA.xlsx', ['peaker'], 'Ontario.a', 86], ['Total_Generation_ABA.xlsx', ['peaker'], 'Ontario.b', 87], ['Total_Generation_ABA.xlsx', ['peaker'], 'Quebec.a', 88], ['Total_Generation_ABA.xlsx', ['peaker'], 'Quebec.b', 89], ['Total_Generation_ABA.xlsx', ['peaker'], 'New Brunswick.a', 90], ['Total_Generation_ABA.xlsx', ['peaker'], 'Newfoundland and Labrador.a', 91], ['Total_Generation_ABA.xlsx', ['peaker'], 'Newfoundland and Labrador.b', 92], ['Total_Generation_ABA.xlsx', ['peaker'], 'Nova Scotia.a', 93], ['Total_Generation_ABA.xlsx', ['peaker'], 'Prince Edward Island.a', 94], ['Total_Generation_ABA.xlsx', ['waste'], 'British Columbia.a', 95], ['Total_Generation_ABA.xlsx', ['waste'], 'Alberta.a', 96], ['Total_Generation_ABA.xlsx', ['waste'], 'Saskatchewan.a', 97], ['Total_Generation_ABA.xlsx', ['waste'], 'Manitoba.a', 98], ['Total_Generation_ABA.xlsx', ['waste'], 'Ontario.a', 99], ['Total_Generation_ABA.xlsx', ['waste'], 'Ontario.b', 100], ['Total_Generation_ABA.xlsx', ['waste'], 'Quebec.a', 101], ['Total_Generation_ABA.xlsx', ['waste'], 'Quebec.b', 102], ['Total_Generation_ABA.xlsx', ['waste'], 'New Brunswick.a', 103], ['Total_Generation_ABA.xlsx', ['waste'], 'Newfoundland and Labrador.a', 104], ['Total_Generation_ABA.xlsx', ['waste'], 'Newfoundland and Labrador.b', 105], ['Total_Generation_ABA.xlsx', ['waste'], 'Nova Scotia.a', 106], ['Total_Generation_ABA.xlsx', ['waste'], 'Prince Edward Island.a', 107], ['Total_Generation_ABA.xlsx', ['wind'], 'British Columbia.a', 108], ['Total_Generation_ABA.xlsx', ['wind'], 'Alberta.a', 109], ['Total_Generation_ABA.xlsx', ['wind'], 'Saskatchewan.a', 110], ['Total_Generation_ABA.xlsx', ['wind'], 'Manitoba.a', 111], ['Total_Generation_ABA.xlsx', ['wind'], 'Ontario.a', 112], ['Total_Generation_ABA.xlsx', ['wind'], 'Ontario.b', 113], ['Total_Generation_ABA.xlsx', ['wind'], 'Quebec.a', 114], ['Total_Generation_ABA.xlsx', ['wind'], 'Quebec.b', 115], ['Total_Generation_ABA.xlsx', ['wind'], 'New Brunswick.a', 116], ['Total_Generation_ABA.xlsx', ['wind'], 'Newfoundland and Labrador.a', 117], ['Total_Generation_ABA.xlsx', ['wind'], 'Newfoundland and Labrador.b', 118], ['Total_Generation_ABA.xlsx', ['wind'], 'Nova Scotia.a', 119], ['Total_Generation_ABA.xlsx', ['wind'], 'Prince Edward Island.a', 120], ['Total_Generation_ABA.xlsx', ['solar'], 'British Columbia.a', 121], ['Total_Generation_ABA.xlsx', ['solar'], 'Alberta.a', 122], ['Total_Generation_ABA.xlsx', ['solar'], 'Saskatchewan.a', 123], ['Total_Generation_ABA.xlsx', ['solar'], 'Manitoba.a', 124], ['Total_Generation_ABA.xlsx', ['solar'], 'Ontario.a', 125], ['Total_Generation_ABA.xlsx', ['solar'], 'Ontario.b', 126], ['Total_Generation_ABA.xlsx', ['solar'], 'Quebec.a', 127], ['Total_Generation_ABA.xlsx', ['solar'], 'Quebec.b', 128], ['Total_Generation_ABA.xlsx', ['solar'], 'New Brunswick.a', 129], ['Total_Generation_ABA.xlsx', ['solar'], 'Newfoundland and Labrador.a', 130], ['Total_Generation_ABA.xlsx', ['solar'], 'Newfoundland and Labrador.b', 131], ['Total_Generation_ABA.xlsx', ['solar'], 'Nova Scotia.a', 132], ['Total_Generation_ABA.xlsx', ['solar'], 'Prince Edward Island.a', 133], ['Total_Generation_ABA.xlsx', ['hydro'], 'British Columbia.a', 134], ['Total_Generation_ABA.xlsx', ['hydro'], 'Alberta.a', 135], ['Total_Generation_ABA.xlsx', ['hydro'], 'Saskatchewan.a', 136], ['Total_Generation_ABA.xlsx', ['hydro'], 'Manitoba.a', 137], ['Total_Generation_ABA.xlsx', ['hydro'], 'Ontario.a', 138], ['Total_Generation_ABA.xlsx', ['hydro'], 'Ontario.b', 139], ['Total_Generation_ABA.xlsx', ['hydro'], 'Quebec.a', 140], ['Total_Generation_ABA.xlsx', ['hydro'], 'Quebec.b', 141], ['Total_Generation_ABA.xlsx', ['hydro'], 'New Brunswick.a', 142], ['Total_Generation_ABA.xlsx', ['hydro'], 'Newfoundland and Labrador.a', 143], ['Total_Generation_ABA.xlsx', ['hydro'], 'Newfoundland and Labrador.b', 144], ['Total_Generation_ABA.xlsx', ['hydro'], 'Nova Scotia.a', 145], ['Total_Generation_ABA.xlsx', ['hydro'], 'Prince Edward Island.a', 146], ['Total_Generation_ABA.xlsx', ['coal'], 'British Columbia.a', 147], ['Total_Generation_ABA.xlsx', ['coal'], 'Alberta.a', 148], ['Total_Generation_ABA.xlsx', ['coal'], 'Saskatchewan.a', 149], ['Total_Generation_ABA.xlsx', ['coal'], 'Manitoba.a', 150], ['Total_Generation_ABA.xlsx', ['coal'], 'Ontario.a', 151], ['Total_Generation_ABA.xlsx', ['coal'], 'Ontario.b', 152], ['Total_Generation_ABA.xlsx', ['coal'], 'Quebec.a', 153], ['Total_Generation_ABA.xlsx', ['coal'], 'Quebec.b', 154], ['Total_Generation_ABA.xlsx', ['coal'], 'New Brunswick.a', 155], ['Total_Generation_ABA.xlsx', ['coal'], 'Newfoundland and Labrador.a', 156], ['Total_Generation_ABA.xlsx', ['coal'], 'Newfoundland and Labrador.b', 157], ['Total_Generation_ABA.xlsx', ['coal'], 'Nova Scotia.a', 158], ['Total_Generation_ABA.xlsx', ['coal'], 'Prince Edward Island.a', 159], ['Total_Generation_ABA.xlsx', ['diesel'], 'British Columbia.a', 160], ['Total_Generation_ABA.xlsx', ['diesel'], 'Alberta.a', 161], ['Total_Generation_ABA.xlsx', ['diesel'], 'Saskatchewan.a', 162], ['Total_Generation_ABA.xlsx', ['diesel'], 'Manitoba.a', 163], ['Total_Generation_ABA.xlsx', ['diesel'], 'Ontario.a', 164], ['Total_Generation_ABA.xlsx', ['diesel'], 'Ontario.b', 165], ['Total_Generation_ABA.xlsx', ['diesel'], 'Quebec.a', 166], ['Total_Generation_ABA.xlsx', ['diesel'], 'Quebec.b', 167], ['Total_Generation_ABA.xlsx', ['diesel'], 'New Brunswick.a', 168], ['Total_Generation_ABA.xlsx', ['diesel'], 'Newfoundland and Labrador.a', 169], ['Total_Generation_ABA.xlsx', ['diesel'], 'Newfoundland and Labrador.b', 170], ['Total_Generation_ABA.xlsx', ['diesel'], 'Nova Scotia.a', 171], ['Total_Generation_ABA.xlsx', ['diesel'], 'Prince Edward Island.a', 172], ['Total_Generation_ABA.xlsx', ['gas'], 'British Columbia.a', 173], ['Total_Generation_ABA.xlsx', ['gas'], 'Alberta.a', 174], ['Total_Generation_ABA.xlsx', ['gas'], 'Saskatchewan.a', 175], ['Total_Generation_ABA.xlsx', ['gas'], 'Manitoba.a', 176], ['Total_Generation_ABA.xlsx', ['gas'], 'Ontario.a', 177], ['Total_Generation_ABA.xlsx', ['gas'], 'Ontario.b', 178], ['Total_Generation_ABA.xlsx', ['gas'], 'Quebec.a', 179], ['Total_Generation_ABA.xlsx', ['gas'], 'Quebec.b', 180], ['Total_Generation_ABA.xlsx', ['gas'], 'New Brunswick.a', 181], ['Total_Generation_ABA.xlsx', ['gas'], 'Newfoundland and Labrador.a', 182], ['Total_Generation_ABA.xlsx', ['gas'], 'Newfoundland and Labrador.b', 183], ['Total_Generation_ABA.xlsx', ['gas'], 'Nova Scotia.a', 184], ['Total_Generation_ABA.xlsx', ['gas'], 'Prince Edward Island.a', 185], ['Total_Generation_ABA.xlsx', ['nuclear'], 'British Columbia.a', 186], ['Total_Generation_ABA.xlsx', ['nuclear'], 'Alberta.a', 187], ['Total_Generation_ABA.xlsx', ['nuclear'], 'Saskatchewan.a', 188], ['Total_Generation_ABA.xlsx', ['nuclear'], 'Manitoba.a', 189], ['Total_Generation_ABA.xlsx', ['nuclear'], 'Ontario.a', 190], ['Total_Generation_ABA.xlsx', ['nuclear'], 'Ontario.b', 191], ['Total_Generation_ABA.xlsx', ['nuclear'], 'Quebec.a', 192], ['Total_Generation_ABA.xlsx', ['nuclear'], 'Quebec.b', 193], ['Total_Generation_ABA.xlsx', ['nuclear'], 'New Brunswick.a', 194], ['Total_Generation_ABA.xlsx', ['nuclear'], 'Newfoundland and Labrador.a', 195], ['Total_Generation_ABA.xlsx', ['nuclear'], 'Newfoundland and Labrador.b', 196], ['Total_Generation_ABA.xlsx', ['nuclear'], 'Nova Scotia.a', 197], ['Total_Generation_ABA.xlsx', ['nuclear'], 'Prince Edward Island.a', 198], ['Total_Generation_ABA.xlsx', ['peaker'], 'British Columbia.a', 199], ['Total_Generation_ABA.xlsx', ['peaker'], 'Alberta.a', 200], ['Total_Generation_ABA.xlsx', ['peaker'], 'Saskatchewan.a', 201], ['Total_Generation_ABA.xlsx', ['peaker'], 'Manitoba.a', 202], ['Total_Generation_ABA.xlsx', ['peaker'], 'Ontario.a', 203], ['Total_Generation_ABA.xlsx', ['peaker'], 'Ontario.b', 204], ['Total_Generation_ABA.xlsx', ['peaker'], 'Quebec.a', 205], ['Total_Generation_ABA.xlsx', ['peaker'], 'Quebec.b', 206], ['Total_Generation_ABA.xlsx', ['peaker'], 'New Brunswick.a', 207], ['Total_Generation_ABA.xlsx', ['peaker'], 'Newfoundland and Labrador.a', 208], ['Total_Generation_ABA.xlsx', ['peaker'], 'Newfoundland and Labrador.b', 209], ['Total_Generation_ABA.xlsx', ['peaker'], 'Nova Scotia.a', 210], ['Total_Generation_ABA.xlsx', ['peaker'], 'Prince Edward Island.a', 211], ['Total_Generation_ABA.xlsx', ['waste'], 'British Columbia.a', 212], ['Total_Generation_ABA.xlsx', ['waste'], 'Alberta.a', 213], ['Total_Generation_ABA.xlsx', ['waste'], 'Saskatchewan.a', 214], ['Total_Generation_ABA.xlsx', ['waste'], 'Manitoba.a', 215], ['Total_Generation_ABA.xlsx', ['waste'], 'Ontario.a', 216], ['Total_Generation_ABA.xlsx', ['waste'], 'Ontario.b', 217], ['Total_Generation_ABA.xlsx', ['waste'], 'Quebec.a', 218], ['Total_Generation_ABA.xlsx', ['waste'], 'Quebec.b', 219], ['Total_Generation_ABA.xlsx', ['waste'], 'New Brunswick.a', 220], ['Total_Generation_ABA.xlsx', ['waste'], 'Newfoundland and Labrador.a', 221], ['Total_Generation_ABA.xlsx', ['waste'], 'Newfoundland and Labrador.b', 222], ['Total_Generation_ABA.xlsx', ['waste'], 'Nova Scotia.a', 223], ['Total_Generation_ABA.xlsx', ['waste'], 'Prince Edward Island.a', 224], ['Total_Generation_ABA.xlsx', ['wind'], 'British Columbia.a', 225], ['Total_Generation_ABA.xlsx', ['wind'], 'Alberta.a', 226], ['Total_Generation_ABA.xlsx', ['wind'], 'Saskatchewan.a', 227], ['Total_Generation_ABA.xlsx', ['wind'], 'Manitoba.a', 228], ['Total_Generation_ABA.xlsx', ['wind'], 'Ontario.a', 229], ['Total_Generation_ABA.xlsx', ['wind'], 'Ontario.b', 230], ['Total_Generation_ABA.xlsx', ['wind'], 'Quebec.a', 231], ['Total_Generation_ABA.xlsx', ['wind'], 'Quebec.b', 232], ['Total_Generation_ABA.xlsx', ['wind'], 'New Brunswick.a', 233], ['Total_Generation_ABA.xlsx', ['wind'], 'Newfoundland and Labrador.a', 234], ['Total_Generation_ABA.xlsx', ['wind'], 'Newfoundland and Labrador.b', 235], ['Total_Generation_ABA.xlsx', ['wind'], 'Nova Scotia.a', 236], ['Total_Generation_ABA.xlsx', ['wind'], 'Prince Edward Island.a', 237], ['Total_Generation_ABA.xlsx', ['solar'], 'British Columbia.a', 238], ['Total_Generation_ABA.xlsx', ['solar'], 'Alberta.a', 239], ['Total_Generation_ABA.xlsx', ['solar'], 'Saskatchewan.a', 240], ['Total_Generation_ABA.xlsx', ['solar'], 'Manitoba.a', 241], ['Total_Generation_ABA.xlsx', ['solar'], 'Ontario.a', 242], ['Total_Generation_ABA.xlsx', ['solar'], 'Ontario.b', 243], ['Total_Generation_ABA.xlsx', ['solar'], 'Quebec.a', 244], ['Total_Generation_ABA.xlsx', ['solar'], 'Quebec.b', 245], ['Total_Generation_ABA.xlsx', ['solar'], 'New Brunswick.a', 246], ['Total_Generation_ABA.xlsx', ['solar'], 'Newfoundland and Labrador.a', 247], ['Total_Generation_ABA.xlsx', ['solar'], 'Newfoundland and Labrador.b', 248], ['Total_Generation_ABA.xlsx', ['solar'], 'Nova Scotia.a', 249], ['Total_Generation_ABA.xlsx', ['solar'], 'Prince Edward Island.a', 250], ['Total_Generation_ABA.xlsx', ['hydro'], 'British Columbia.a', 251], ['Total_Generation_ABA.xlsx', ['hydro'], 'Alberta.a', 252], ['Total_Generation_ABA.xlsx', ['hydro'], 'Saskatchewan.a', 253], ['Total_Generation_ABA.xlsx', ['hydro'], 'Manitoba.a', 254], ['Total_Generation_ABA.xlsx', ['hydro'], 'Ontario.a', 255], ['Total_Generation_ABA.xlsx', ['hydro'], 'Ontario.b', 256], ['Total_Generation_ABA.xlsx', ['hydro'], 'Quebec.a', 257], ['Total_Generation_ABA.xlsx', ['hydro'], 'Quebec.b', 258], ['Total_Generation_ABA.xlsx', ['hydro'], 'New Brunswick.a', 259], ['Total_Generation_ABA.xlsx', ['hydro'], 'Newfoundland and Labrador.a', 260], ['Total_Generation_ABA.xlsx', ['hydro'], 'Newfoundland and Labrador.b', 261], ['Total_Generation_ABA.xlsx', ['hydro'], 'Nova Scotia.a', 262], ['Total_Generation_ABA.xlsx', ['hydro'], 'Prince Edward Island.a', 263], ['Total_Generation_ABA.xlsx', ['coal'], 'British Columbia.a', 264], ['Total_Generation_ABA.xlsx', ['coal'], 'Alberta.a', 265], ['Total_Generation_ABA.xlsx', ['coal'], 'Saskatchewan.a', 266], ['Total_Generation_ABA.xlsx', ['coal'], 'Manitoba.a', 267], ['Total_Generation_ABA.xlsx', ['coal'], 'Ontario.a', 268], ['Total_Generation_ABA.xlsx', ['coal'], 'Ontario.b', 269], ['Total_Generation_ABA.xlsx', ['coal'], 'Quebec.a', 270], ['Total_Generation_ABA.xlsx', ['coal'], 'Quebec.b', 271], ['Total_Generation_ABA.xlsx', ['coal'], 'New Brunswick.a', 272], ['Total_Generation_ABA.xlsx', ['coal'], 'Newfoundland and Labrador.a', 273], ['Total_Generation_ABA.xlsx', ['coal'], 'Newfoundland and Labrador.b', 274], ['Total_Generation_ABA.xlsx', ['coal'], 'Nova Scotia.a', 275], ['Total_Generation_ABA.xlsx', ['coal'], 'Prince Edward Island.a', 276], ['Total_Generation_ABA.xlsx', ['diesel'], 'British Columbia.a', 277], ['Total_Generation_ABA.xlsx', ['diesel'], 'Alberta.a', 278], ['Total_Generation_ABA.xlsx', ['diesel'], 'Saskatchewan.a', 279], ['Total_Generation_ABA.xlsx', ['diesel'], 'Manitoba.a', 280], ['Total_Generation_ABA.xlsx', ['diesel'], 'Ontario.a', 281], ['Total_Generation_ABA.xlsx', ['diesel'], 'Ontario.b', 282], ['Total_Generation_ABA.xlsx', ['diesel'], 'Quebec.a', 283], ['Total_Generation_ABA.xlsx', ['diesel'], 'Quebec.b', 284], ['Total_Generation_ABA.xlsx', ['diesel'], 'New Brunswick.a', 285], ['Total_Generation_ABA.xlsx', ['diesel'], 'Newfoundland and Labrador.a', 286], ['Total_Generation_ABA.xlsx', ['diesel'], 'Newfoundland and Labrador.b', 287], ['Total_Generation_ABA.xlsx', ['diesel'], 'Nova Scotia.a', 288], ['Total_Generation_ABA.xlsx', ['diesel'], 'Prince Edward Island.a', 289], ['Total_Generation_ABA.xlsx', ['gas'], 'British Columbia.a', 290], ['Total_Generation_ABA.xlsx', ['gas'], 'Alberta.a', 291], ['Total_Generation_ABA.xlsx', ['gas'], 'Saskatchewan.a', 292], ['Total_Generation_ABA.xlsx', ['gas'], 'Manitoba.a', 293], ['Total_Generation_ABA.xlsx', ['gas'], 'Ontario.a', 294], ['Total_Generation_ABA.xlsx', ['gas'], 'Ontario.b', 295], ['Total_Generation_ABA.xlsx', ['gas'], 'Quebec.a', 296], ['Total_Generation_ABA.xlsx', ['gas'], 'Quebec.b', 297], ['Total_Generation_ABA.xlsx', ['gas'], 'New Brunswick.a', 298], ['Total_Generation_ABA.xlsx', ['gas'], 'Newfoundland and Labrador.a', 299], ['Total_Generation_ABA.xlsx', ['gas'], 'Newfoundland and Labrador.b', 300], ['Total_Generation_ABA.xlsx', ['gas'], 'Nova Scotia.a', 301], ['Total_Generation_ABA.xlsx', ['gas'], 'Prince Edward Island.a', 302], ['Total_Generation_ABA.xlsx', ['nuclear'], 'British Columbia.a', 303], ['Total_Generation_ABA.xlsx', ['nuclear'], 'Alberta.a', 304], ['Total_Generation_ABA.xlsx', ['nuclear'], 'Saskatchewan.a', 305], ['Total_Generation_ABA.xlsx', ['nuclear'], 'Manitoba.a', 306], ['Total_Generation_ABA.xlsx', ['nuclear'], 'Ontario.a', 307], ['Total_Generation_ABA.xlsx', ['nuclear'], 'Ontario.b', 308], ['Total_Generation_ABA.xlsx', ['nuclear'], 'Quebec.a', 309], ['Total_Generation_ABA.xlsx', ['nuclear'], 'Quebec.b', 310], ['Total_Generation_ABA.xlsx', ['nuclear'], 'New Brunswick.a', 311], ['Total_Generation_ABA.xlsx', ['nuclear'], 'Newfoundland and Labrador.a', 312], ['Total_Generation_ABA.xlsx', ['nuclear'], 'Newfoundland and Labrador.b', 313], ['Total_Generation_ABA.xlsx', ['nuclear'], 'Nova Scotia.a', 314], ['Total_Generation_ABA.xlsx', ['nuclear'], 'Prince Edward Island.a', 315], ['Total_Generation_ABA.xlsx', ['peaker'], 'British Columbia.a', 316], ['Total_Generation_ABA.xlsx', ['peaker'], 'Alberta.a', 317], ['Total_Generation_ABA.xlsx', ['peaker'], 'Saskatchewan.a', 318], ['Total_Generation_ABA.xlsx', ['peaker'], 'Manitoba.a', 319], ['Total_Generation_ABA.xlsx', ['peaker'], 'Ontario.a', 320], ['Total_Generation_ABA.xlsx', ['peaker'], 'Ontario.b', 321], ['Total_Generation_ABA.xlsx', ['peaker'], 'Quebec.a', 322], ['Total_Generation_ABA.xlsx', ['peaker'], 'Quebec.b', 323], ['Total_Generation_ABA.xlsx', ['peaker'], 'New Brunswick.a', 324], ['Total_Generation_ABA.xlsx', ['peaker'], 'Newfoundland and Labrador.a', 325], ['Total_Generation_ABA.xlsx', ['peaker'], 'Newfoundland and Labrador.b', 326], ['Total_Generation_ABA.xlsx', ['peaker'], 'Nova Scotia.a', 327], ['Total_Generation_ABA.xlsx', ['peaker'], 'Prince Edward Island.a', 328], ['Total_Generation_ABA.xlsx', ['waste'], 'British Columbia.a', 329], ['Total_Generation_ABA.xlsx', ['waste'], 'Alberta.a', 330], ['Total_Generation_ABA.xlsx', ['waste'], 'Saskatchewan.a', 331], ['Total_Generation_ABA.xlsx', ['waste'], 'Manitoba.a', 332], ['Total_Generation_ABA.xlsx', ['waste'], 'Ontario.a', 333], ['Total_Generation_ABA.xlsx', ['waste'], 'Ontario.b', 334], ['Total_Generation_ABA.xlsx', ['waste'], 'Quebec.a', 335], ['Total_Generation_ABA.xlsx', ['waste'], 'Quebec.b', 336], ['Total_Generation_ABA.xlsx', ['waste'], 'New Brunswick.a', 337], ['Total_Generation_ABA.xlsx', ['waste'], 'Newfoundland and Labrador.a', 338], ['Total_Generation_ABA.xlsx', ['waste'], 'Newfoundland and Labrador.b', 339], ['Total_Generation_ABA.xlsx', ['waste'], 'Nova Scotia.a', 340], ['Total_Generation_ABA.xlsx', ['waste'], 'Prince Edward Island.a', 341], ['Total_Generation_ABA.xlsx', ['wind'], 'British Columbia.a', 342], ['Total_Generation_ABA.xlsx', ['wind'], 'Alberta.a', 343], ['Total_Generation_ABA.xlsx', ['wind'], 'Saskatchewan.a', 344], ['Total_Generation_ABA.xlsx', ['wind'], 'Manitoba.a', 345], ['Total_Generation_ABA.xlsx', ['wind'], 'Ontario.a', 346], ['Total_Generation_ABA.xlsx', ['wind'], 'Ontario.b', 347], ['Total_Generation_ABA.xlsx', ['wind'], 'Quebec.a', 348], ['Total_Generation_ABA.xlsx', ['wind'], 'Quebec.b', 349], ['Total_Generation_ABA.xlsx', ['wind'], 'New Brunswick.a', 350], ['Total_Generation_ABA.xlsx', ['wind'], 'Newfoundland and Labrador.a', 351], ['Total_Generation_ABA.xlsx', ['wind'], 'Newfoundland and Labrador.b', 352], ['Total_Generation_ABA.xlsx', ['wind'], 'Nova Scotia.a', 353], ['Total_Generation_ABA.xlsx', ['wind'], 'Prince Edward Island.a', 354], ['Total_Generation_ABA.xlsx', ['solar'], 'British Columbia.a', 355], ['Total_Generation_ABA.xlsx', ['solar'], 'Alberta.a', 356], ['Total_Generation_ABA.xlsx', ['solar'], 'Saskatchewan.a', 357], ['Total_Generation_ABA.xlsx', ['solar'], 'Manitoba.a', 358], ['Total_Generation_ABA.xlsx', ['solar'], 'Ontario.a', 359], ['Total_Generation_ABA.xlsx', ['solar'], 'Ontario.b', 360], ['Total_Generation_ABA.xlsx', ['solar'], 'Quebec.a', 361], ['Total_Generation_ABA.xlsx', ['solar'], 'Quebec.b', 362], ['Total_Generation_ABA.xlsx', ['solar'], 'New Brunswick.a', 363], ['Total_Generation_ABA.xlsx', ['solar'], 'Newfoundland and Labrador.a', 364], ['Total_Generation_ABA.xlsx', ['solar'], 'Newfoundland and Labrador.b', 365], ['Total_Generation_ABA.xlsx', ['solar'], 'Nova Scotia.a', 366], ['Total_Generation_ABA.xlsx', ['solar'], 'Prince Edward Island.a', 367], ['Total_Generation_ABA.xlsx', ['hydro'], 'British Columbia.a', 368], ['Total_Generation_ABA.xlsx', ['hydro'], 'Alberta.a', 369], ['Total_Generation_ABA.xlsx', ['hydro'], 'Saskatchewan.a', 370], ['Total_Generation_ABA.xlsx', ['hydro'], 'Manitoba.a', 371], ['Total_Generation_ABA.xlsx', ['hydro'], 'Ontario.a', 372], ['Total_Generation_ABA.xlsx', ['hydro'], 'Ontario.b', 373], ['Total_Generation_ABA.xlsx', ['hydro'], 'Quebec.a', 374], ['Total_Generation_ABA.xlsx', ['hydro'], 'Quebec.b', 375], ['Total_Generation_ABA.xlsx', ['hydro'], 'New Brunswick.a', 376], ['Total_Generation_ABA.xlsx', ['hydro'], 'Newfoundland and Labrador.a', 377], ['Total_Generation_ABA.xlsx', ['hydro'], 'Newfoundland and Labrador.b', 378], ['Total_Generation_ABA.xlsx', ['hydro'], 'Nova Scotia.a', 379], ['Total_Generation_ABA.xlsx', ['hydro'], 'Prince Edward Island.a', 380], ['Canada_gen_outline.xlsx', ['coal'], '2030', 381], ['Canada_gen_outline.xlsx', ['coal'], '2040', 382], ['Canada_gen_outline.xlsx', ['coal'], '2050', 383], ['Canada_gen_outline.xlsx', ['diesel'], '2030', 384], ['Canada_gen_outline.xlsx', ['diesel'], '2040', 385], ['Canada_gen_outline.xlsx', ['diesel'], '2050', 386], ['Canada_gen_outline.xlsx', ['gas'], '2030', 387], ['Canada_gen_outline.xlsx', ['gas'], '2040', 388], ['Canada_gen_outline.xlsx', ['gas'], '2050', 389], ['Canada_gen_outline.xlsx', ['nuclear'], '2030', 390], ['Canada_gen_outline.xlsx', ['nuclear'], '2040', 391], ['Canada_gen_outline.xlsx', ['nuclear'], '2050', 392], ['Canada_gen_outline.xlsx', ['peaker'], '2030', 393], ['Canada_gen_outline.xlsx', ['peaker'], '2040', 394], ['Canada_gen_outline.xlsx', ['peaker'], '2050', 395], ['Canada_gen_outline.xlsx', ['waste'], '2030', 396], ['Canada_gen_outline.xlsx', ['waste'], '2040', 397], ['Canada_gen_outline.xlsx', ['waste'], '2050', 398], ['Canada_gen_outline.xlsx', ['wind'], '2030', 399], ['Canada_gen_outline.xlsx', ['wind'], '2040', 400], ['Canada_gen_outline.xlsx', ['wind'], '2050', 401], ['Canada_gen_outline.xlsx', ['solar'], '2030', 402], ['Canada_gen_outline.xlsx', ['solar'], '2040', 403], ['Canada_gen_outline.xlsx', ['solar'], '2050', 404], ['Canada_gen_outline.xlsx', ['hydro'], '2030', 405], ['Canada_gen_outline.xlsx', ['hydro'], '2040', 406], ['Canada_gen_outline.xlsx', ['hydro'], '2050', 407]]\n"
     ]
    }
   ],
   "source": [
    "print(output_idx_raw)"
   ]
  },
  {
   "cell_type": "code",
   "execution_count": 91,
   "metadata": {},
   "outputs": [],
   "source": [
    "#Normalize carbontax column\n",
    "\n",
    "x_new_n = (x_new_raw[:,85] - 500.075012207031)/122.888595581055"
   ]
  },
  {
   "cell_type": "code",
   "execution_count": 40,
   "metadata": {},
   "outputs": [
    {
     "name": "stdout",
     "output_type": "stream",
     "text": [
      "[['Generation_type_data', 0, 0, 0], ['Generation_type_data', 0, 1, 1], ['Generation_type_data', 0, 2, 2], ['Generation_type_data', 0, 3, 3], ['Generation_type_data', 0, 4, 4], ['Generation_type_data', 0, 5, 5], ['Generation_type_data', 0, 6, 6], ['Generation_type_data', 0, 7, 7], ['Generation_type_data', 0, 8, 8], ['Generation_type_data', 1, 0, 9], ['Generation_type_data', 1, 1, 10], ['Generation_type_data', 1, 2, 11], ['Generation_type_data', 1, 3, 12], ['Generation_type_data', 1, 4, 13], ['Generation_type_data', 1, 5, 14], ['Generation_type_data', 1, 6, 15], ['Generation_type_data', 1, 7, 16], ['Generation_type_data', 1, 8, 17], ['Generation_type_data', 2, 0, 18], ['Generation_type_data', 2, 1, 19], ['Generation_type_data', 2, 2, 20], ['Generation_type_data', 2, 3, 21], ['Generation_type_data', 2, 4, 22], ['Generation_type_data', 2, 5, 23], ['Generation_type_data', 2, 6, 24], ['Generation_type_data', 2, 7, 25], ['Generation_type_data', 2, 8, 26], ['Generation_type_data', 3, 0, 27], ['Generation_type_data', 3, 1, 28], ['Generation_type_data', 3, 2, 29], ['Generation_type_data', 3, 3, 30], ['Generation_type_data', 3, 4, 31], ['Generation_type_data', 3, 5, 32], ['Generation_type_data', 3, 6, 33], ['Generation_type_data', 3, 7, 34], ['Generation_type_data', 3, 8, 35], ['Generation_type_data', 4, 0, 36], ['Generation_type_data', 4, 1, 37], ['Generation_type_data', 4, 2, 38], ['Generation_type_data', 4, 3, 39], ['Generation_type_data', 4, 4, 40], ['Generation_type_data', 4, 5, 41], ['Generation_type_data', 4, 6, 42], ['Generation_type_data', 4, 7, 43], ['Generation_type_data', 4, 8, 44], ['Generation_type_data', 5, 0, 45], ['Generation_type_data', 5, 1, 46], ['Generation_type_data', 5, 2, 47], ['Generation_type_data', 5, 3, 48], ['Generation_type_data', 5, 4, 49], ['Generation_type_data', 5, 5, 50], ['Generation_type_data', 5, 6, 51], ['Generation_type_data', 5, 7, 52], ['Generation_type_data', 5, 8, 53], ['Generation_type_data', 6, 5, 59], ['Generation_type_data', 6, 6, 60], ['Generation_type_data', 6, 8, 62], ['Generation_type_data', 7, 5, 68], ['Generation_type_data', 7, 6, 69], ['Generation_type_data', 7, 8, 71], ['Generation_type_data', 8, 5, 77], ['Generation_type_data', 8, 6, 78], ['COPPER_configuration_47.xlsx', 0, 0, 81], ['COPPER_configuration_47.xlsx', 1, 0, 82], ['COPPER_configuration_47.xlsx', 2, 0, 83], ['COPPER_configuration_47.xlsx', 3, 0, 84], ['COPPER_configuration_47.xlsx', 4, 0, 85], ['COPPER_configuration_47.xlsx', 5, 0, 86], ['COPPER_configuration_47.xlsx', 6, 0, 87], ['COPPER_configuration_47.xlsx', 7, 0, 88], ['COPPER_configuration_47.xlsx', 8, 0, 89], ['COPPER_configuration_47.xlsx', 9, 0, 90], ['COPPER_configuration_47.xlsx', 10, 0, 91], ['COPPER_configuration_47.xlsx', 11, 0, 92], ['COPPER_configuration_47.xlsx', 12, 0, 93], ['COPPER_configuration_47.xlsx', 13, 0, 94], ['COPPER_configuration_47.xlsx', 14, 0, 95], ['COPPER_configuration_47.xlsx', 15, 0, 96], ['COPPER_configuration_47.xlsx', 16, 0, 97], ['COPPER_configuration_47.xlsx', 17, 0, 98], ['annual_growth', 0, 0, 99], ['annual_growth', 0, 1, 100], ['annual_growth', 0, 2, 101], ['annual_growth', 1, 0, 102], ['annual_growth', 1, 1, 103], ['annual_growth', 1, 2, 104], ['annual_growth', 2, 0, 105], ['annual_growth', 2, 1, 106], ['annual_growth', 2, 2, 107], ['annual_growth', 3, 0, 108], ['annual_growth', 3, 1, 109], ['annual_growth', 3, 2, 110], ['annual_growth', 4, 0, 111], ['annual_growth', 4, 1, 112], ['annual_growth', 4, 2, 113], ['annual_growth', 5, 0, 114], ['annual_growth', 5, 1, 115], ['annual_growth', 5, 2, 116], ['annual_growth', 6, 0, 117], ['annual_growth', 6, 1, 118], ['annual_growth', 6, 2, 119], ['annual_growth', 7, 0, 120], ['annual_growth', 7, 1, 121], ['annual_growth', 7, 2, 122], ['annual_growth', 8, 0, 123], ['annual_growth', 8, 1, 124], ['annual_growth', 8, 2, 125], ['annual_growth', 9, 0, 126], ['annual_growth', 9, 1, 127], ['annual_growth', 9, 2, 128], ['Generation_type_data.xlsx', 0, 0, 129], ['Generation_type_data.xlsx', 1, 0, 130], ['Generation_type_data.xlsx', 2, 0, 131], ['Generation_type_data.xlsx', 3, 0, 132], ['Generation_type_data.xlsx', 4, 0, 133], ['Generation_type_data.xlsx', 5, 0, 134], ['Generation_type_data.xlsx', 6, 0, 135], ['Generation_type_data.xlsx', 7, 0, 136], ['Generation_type_data.xlsx', 8, 0, 137]]\n"
     ]
    }
   ],
   "source": [
    "print(input_new_idx_s)"
   ]
  },
  {
   "cell_type": "code",
   "execution_count": 16,
   "metadata": {},
   "outputs": [],
   "source": [
    "#normalize\n",
    "\n",
    "mean_x = pd.read_excel('Mean_std_f18.xlsx', header = 0, usecols = ['mean_x'], engine='openpyxl').transpose()\n",
    "std_x = pd.read_excel('Mean_std_f18.xlsx', header = 0, usecols = ['std_x'],engine='openpyxl').transpose()\n",
    "mean_y = pd.read_excel('Mean_std_f18.xlsx', header = 0, usecols = ['mean_y'],engine='openpyxl').transpose()\n",
    "std_y = pd.read_excel('Mean_std_f18.xlsx', header = 0, usecols = ['std_y'],engine='openpyxl').transpose()"
   ]
  },
  {
   "cell_type": "code",
   "execution_count": 17,
   "metadata": {},
   "outputs": [],
   "source": [
    "mean_x = np.array(mean_x)[:,0:39]\n",
    "std_x = np.array(std_x)[:,0:39]\n",
    "mean_y =np.array(mean_y)\n",
    "std_y =np.array(std_y)"
   ]
  },
  {
   "cell_type": "code",
   "execution_count": 18,
   "metadata": {},
   "outputs": [],
   "source": [
    "x_new = normalize_new(x_new_raw, mean_x, std_x)\n",
    "y_new = normalize_new(y_new_raw, mean_y, std_y)"
   ]
  },
  {
   "cell_type": "code",
   "execution_count": 19,
   "metadata": {},
   "outputs": [],
   "source": [
    "y_new, output_new_idx = remove(y_new, output_new_idx, ignore_y )"
   ]
  },
  {
   "cell_type": "code",
   "execution_count": 20,
   "metadata": {},
   "outputs": [
    {
     "name": "stdout",
     "output_type": "stream",
     "text": [
      "['carbon_ap.xlsx', ['Ontario'], '2030', 12]\n"
     ]
    }
   ],
   "source": [
    "print(output_new_idx[9])"
   ]
  },
  {
   "cell_type": "code",
   "execution_count": 21,
   "metadata": {},
   "outputs": [
    {
     "name": "stdout",
     "output_type": "stream",
     "text": [
      "[ 0.09075489 -2.67901853  1.79609212 -2.31562053  0.22246076  2.91853546\n",
      " -1.97197188 -0.07407644  0.38059274 -0.85647175 -0.24221211 -2.70201227\n",
      " -1.54273273 -0.91948559 -0.73744016  0.27713973 -2.32451155  2.30798024\n",
      " -0.19259174 -1.66049458  2.3047052  -2.09352407  1.2710909  -1.89151223\n",
      " -1.85812281  0.24719347  2.80812955 -0.90589097 -0.54706308 -2.07016764\n",
      " -1.62041798  1.19536502  2.35931811  2.32586933 -2.98042398  0.93480962\n",
      "  1.95834548  0.66025357  1.41314963 -0.18684948  1.33933941  0.44963394\n",
      "  0.10087232 -2.32483476  0.28273423  0.37427062 -1.83290088  0.73812308\n",
      " -2.11995328 -0.98887545 -2.03994312  2.65347576 -0.44592505 -2.93093633\n",
      " -2.98344224 -2.90726489  0.63474954 -0.54348134 -2.50623986 -0.87556228\n",
      "  2.98230449 -2.32831555 -0.22724097  2.09865096  1.14544962 -0.24837803\n",
      " -0.6048152   2.08689725 -1.1685833   1.46010288  0.79168156 -1.9856559\n",
      "  2.34519925 -1.29749987  0.3082472   1.05445162  2.01428946  1.35742517\n",
      "  1.05681527  1.10367316  2.61464853  1.85292117 -0.05753308  0.49133788\n",
      "  2.71780652 -2.00489432 -2.25395701  2.22121387 -1.68832478  0.45306792\n",
      "  1.35022891 -0.14888571  2.6442357   0.45659726  2.88726458 -1.61791551\n",
      "  0.95997145 -2.34682287 -2.85863475  2.37134995]\n"
     ]
    }
   ],
   "source": [
    "print(x_new[:,9])"
   ]
  },
  {
   "cell_type": "code",
   "execution_count": 127,
   "metadata": {},
   "outputs": [],
   "source": [
    "# df=pd.read_csv('CTax.csv', sep=',',header=None)\n",
    "# z1 = df.values"
   ]
  },
  {
   "cell_type": "code",
   "execution_count": 109,
   "metadata": {},
   "outputs": [],
   "source": [
    "s = 1"
   ]
  },
  {
   "cell_type": "code",
   "execution_count": 225,
   "metadata": {},
   "outputs": [],
   "source": [
    "q = 46"
   ]
  },
  {
   "cell_type": "code",
   "execution_count": 226,
   "metadata": {},
   "outputs": [
    {
     "data": {
      "text/plain": [
       "Text(0.5, 1.0, \"['Total_Generation_ABA.xlsx', ['gas'], 'Quebec.a', 296]\")"
      ]
     },
     "execution_count": 226,
     "metadata": {},
     "output_type": "execute_result"
    },
    {
     "data": {
      "image/png": "[encoded data removed]",
      "text/plain": [
       "<Figure size 432x288 with 1 Axes>"
      ]
     },
     "metadata": {
      "needs_background": "light"
     },
     "output_type": "display_data"
    }
   ],
   "source": [
    "#Plot only one output by changong only one input\n",
    " \n",
    "plt.scatter(x_new[:,9], y_new[:, q]) \n",
    "plt.title(output_new_idx[q])\n",
    "# plt.ylim(-s, s)"
   ]
  },
  {
   "cell_type": "code",
   "execution_count": 227,
   "metadata": {},
   "outputs": [
    {
     "data": {
      "text/plain": [
       "Text(0.5, 1.0, \"['Total_Generation_ABA.xlsx', ['gas'], 'Quebec.a', 296]\")"
      ]
     },
     "execution_count": 227,
     "metadata": {},
     "output_type": "execute_result"
    },
    {
     "data": {
      "image/png": "[encoded data removed]",
      "text/plain": [
       "<Figure size 432x288 with 1 Axes>"
      ]
     },
     "metadata": {
      "needs_background": "light"
     },
     "output_type": "display_data"
    }
   ],
   "source": [
    "torch.manual_seed(0)\n",
    "new_model.eval()\n",
    "x_new_torch = torch.FloatTensor(x_new)\n",
    "with torch.no_grad():\n",
    "    y_new_torch = new_model (x_new_torch)   \n",
    "plt.scatter(x_new_torch[:,9], y_new_torch[:, q]) \n",
    "plt.title(output_new_idx[q])\n",
    "# plt.ylim(-s, s)"
   ]
  },
  {
   "cell_type": "code",
   "execution_count": 25,
   "metadata": {},
   "outputs": [],
   "source": [
    "class block_1d(pl.LightningModule):\n",
    "    def __init__(self,in_dim,out_dim,activation=nn.ReLU,dropout = 0.5):\n",
    "#         self.learning_rate = lr\n",
    "        super(block_1d, self).__init__()\n",
    "        self.block = nn.Sequential(\n",
    "            #nn.BatchNorm1d(in_dim),\n",
    "#             nn.Dropout(dropout),\n",
    "            nn.Linear(in_dim,out_dim, bias=True),\n",
    "#             nn.Linear(in_dim,out_dim),\n",
    "            activation(),\n",
    "        )\n",
    "\n",
    "    def forward(self, x):\n",
    "        out = self.block(x)\n",
    "        return out\n",
    "###############################################################################\n",
    "class res_block_1d(pl.LightningModule):\n",
    "    def __init__(self, in_dim, out_dim, activation=nn.ReLU,dropout = 0.5):\n",
    "        super(res_block_1d, self).__init__()\n",
    "        self.activation = activation()\n",
    "        self.block = nn.Sequential(\n",
    "            nn.BatchNorm1d(in_dim),\n",
    "            nn.Dropout(dropout),\n",
    "            nn.Linear(in_dim, out_dim, bias=True),\n",
    "            activation(),\n",
    "            nn.BatchNorm1d(out_dim),\n",
    "            nn.Dropout(dropout),\n",
    "            nn.Linear(out_dim, out_dim, bias=True),\n",
    "            activation(),\n",
    "        )\n",
    "\n",
    "    def forward(self, x):\n",
    "#         out = self.activation(self.block(x) + x)\n",
    "        out = self.block(x) + x\n",
    "        return out\n",
    "################################################################################  \n",
    "class resnet(pl.LightningModule):\n",
    "    def __init__(self, in_dim, out_dim, layers):\n",
    "        #layers: list of layer_spec\n",
    "        #layer_spec: list of [block_type, block dimenssion, block activation, dropout]\n",
    "        super(resnet, self).__init__()\n",
    "        self.loss = nn.MSELoss()\n",
    "        self.num_layers = len(layers)+1\n",
    "        for index in range(self.num_layers):\n",
    "            if index == 0 :\n",
    "                setattr(self, \"layer_\" + str(index), layers[index][0](in_dim, layers[index][1], layers[index][2],layers[index][3]))\n",
    "            elif index == self.num_layers-1:\n",
    "                setattr(self, \"layer_\" + str(index), nn.Linear(layers[index-1][1], out_dim))\n",
    "            else:\n",
    "                setattr(self, \"layer_\" + str(index), layers[index][0](layers[index-1][1], layers[index][1],layers[index][2],layers[index][3]))\n",
    "    \n",
    "    def forward(self, x):\n",
    "        for index in range(self.num_layers):\n",
    "            x = getattr(self, \"layer_\" + str(index))(x)\n",
    "        return x\n",
    "###################################################################################    \n",
    "    def train_dataloader(self):\n",
    "        train_loader = torch.utils.data.DataLoader(dataset = train_dataset,\n",
    "                                                   batch_size=batch_size,\n",
    "                                                   #sampler=train_sampler,\n",
    "                                                   drop_last = False,\n",
    "                                                   shuffle=True,\n",
    "                                                   num_workers=1,\n",
    "                                                   pin_memory = True)\n",
    "        return train_loader\n",
    "\n",
    "    def val_dataloader(self):\n",
    "        validation_loader = torch.utils.data.DataLoader(dataset = valid_dataset,\n",
    "                                                        batch_size=batch_size,\n",
    "                                                        #sampler=valid_sampler,\n",
    "                                                        drop_last = False,\n",
    "                                                        shuffle=True,\n",
    "                                                        num_workers=1,\n",
    "                                                        pin_memory = True)\n",
    "        return validation_loader\n",
    "\n",
    "    def test_dataloader(self):\n",
    "        test_loader = torch.utils.data.DataLoader(dataset = test_dataset,\n",
    "                                                  batch_size=batch_size,\n",
    "                                                  #sampler=test_sampler,\n",
    "                                                  drop_last = False, \n",
    "                                                  shuffle=False,\n",
    "                                                  num_workers=1,\n",
    "                                                  pin_memory = False)\n",
    "        return test_loader   \n",
    "#################################################################################    \n",
    "    def training_step(self, batch, batch_idx):\n",
    "        data, target = batch\n",
    "        preds = self(data)\n",
    "        loss = self.loss(preds, target)\n",
    "        self.log('train_loss_step', loss)#,prog_bar=True)\n",
    "        return {'loss': loss}\n",
    "\n",
    "    def training_step_end(self, outputs):\n",
    "        return outputs\n",
    "    \n",
    "    def training_epoch_end(self, outputs) -> None:\n",
    "        self.log('train_loss_epoch',torch.stack([x['loss'] for x in outputs]).mean())\n",
    "        \n",
    "    ########################################################    \n",
    "        \n",
    "    def validation_step(self, batch, batch_idx):\n",
    "        data, target = batch\n",
    "        preds = self(data)\n",
    "        loss = self.loss(preds, target)\n",
    "        self.log('val_loss_step', loss)#, prog_bar=True)\n",
    "        return {'val_loss':loss}\n",
    "    \n",
    "\n",
    "    def validation_step_end(self, outputs):\n",
    "        return outputs\n",
    "\n",
    "    def validation_epoch_end(self,outputs)->None:\n",
    "        self.log('val_loss_epoch',torch.stack([x['val_loss'] for x in outputs]).mean())\n",
    "        \n",
    "    ########################################################\n",
    "  \n",
    "    def test_step(self, batch, batch_idx):\n",
    "        data, target = batch\n",
    "        preds = self(data)\n",
    "        loss = self.loss(preds, target)\n",
    "        self.log(\"test_loss\", loss)#, prog_bar=True)\n",
    "        return {'test_loss':loss}\n",
    "\n",
    "    def test_epoch_end(self,outputs)->None:\n",
    "        torch.stack([x['test_loss'] for x in outputs]).mean()\n",
    "\n",
    "    ########################################################\n",
    "\n",
    "    def configure_optimizers(self):\n",
    "        optimizer = torch.optim.Adam(self.parameters(), lr= 1e-3)\n",
    "        return optimizer"
   ]
  },
  {
   "cell_type": "code",
   "execution_count": 26,
   "metadata": {},
   "outputs": [],
   "source": [
    "# Load saved model \n",
    "layers = [[block_1d,128,nn.ReLU,0]]\n",
    "dim_output = 57\n",
    "dim_input = 39\n",
    "num_blocks = 8\n",
    "\n",
    "for i in range(num_blocks):\n",
    "    layers.append([res_block_1d,128,nn.ReLU,0.2])  \n",
    " \n",
    "new_model = resnet.load_from_checkpoint(\"Model_Jan8.ckpt\", in_dim = dim_input, out_dim = dim_output, layers = layers )"
   ]
  },
  {
   "cell_type": "code",
   "execution_count": 86,
   "metadata": {},
   "outputs": [
    {
     "data": {
      "text/plain": [
       "tensor([ 0.0000,  0.0000,  0.0000,  0.0000,  0.0000,  0.0000,  0.0000,  0.0000,\n",
       "         0.0000, -2.6790,  0.0000,  0.0000,  0.0000,  0.0000,  0.0000,  0.0000,\n",
       "         0.0000,  0.0000,  0.0000,  0.0000,  0.0000,  0.0000,  0.0000,  0.0000,\n",
       "         0.0000,  0.0000,  0.0000,  0.0000,  0.0000,  0.0000,  0.0000,  0.0000,\n",
       "         0.0000,  0.0000,  0.0000,  0.0000,  0.0000,  0.0000,  0.0000])"
      ]
     },
     "execution_count": 86,
     "metadata": {},
     "output_type": "execute_result"
    }
   ],
   "source": [
    "x_train_new[1,:]"
   ]
  },
  {
   "cell_type": "code",
   "execution_count": null,
   "metadata": {},
   "outputs": [],
   "source": [
    "np.sort(y_new[:,13]"
   ]
  },
  {
   "cell_type": "code",
   "execution_count": 128,
   "metadata": {},
   "outputs": [],
   "source": [
    "my_data = np.genfromtxt('CTax.csv', delimiter = ',')"
   ]
  },
  {
   "cell_type": "code",
   "execution_count": 129,
   "metadata": {},
   "outputs": [
    {
     "name": "stdout",
     "output_type": "stream",
     "text": [
      "[-2.98344205 -2.98042382 -2.9309361  -2.90726471 -2.85863456 -2.70201204\n",
      " -2.67901829 -2.5062397  -2.34682271 -2.32831535 -2.32483461 -2.3245114\n",
      " -2.31562037 -2.25395686 -2.11995312 -2.09352387 -2.07016742 -2.039943\n",
      " -2.00489411 -1.98565575 -1.97197177 -1.89151197 -1.85812266 -1.83290062\n",
      " -1.68832458 -1.66049433 -1.62041791 -1.61791539 -1.54273263 -1.29749972\n",
      " -1.16858311 -0.9888753  -0.91948536 -0.90589072 -0.87556213 -0.85647159\n",
      " -0.73743998 -0.60481514 -0.547063   -0.54348116 -0.44592498 -0.248378\n",
      " -0.24221212 -0.22724079 -0.19259169 -0.18684936 -0.14888554 -0.07407636\n",
      " -0.05753286  0.09075502  0.1008724   0.22246072  0.24719369  0.27713986\n",
      "  0.28273446  0.30824711  0.3742705   0.38059298  0.44963414  0.45306781\n",
      "  0.45659745  0.49133821  0.63474957  0.66025365  0.73812337  0.79168162\n",
      "  0.93480984  0.95997166  1.05445189  1.05681524  1.10367308  1.14544969\n",
      "  1.19536518  1.27109094  1.33933946  1.35022918  1.35742533  1.41314945\n",
      "  1.4601027   1.79609235  1.85292104  1.95834547  2.01428935  2.08689725\n",
      "  2.0986511   2.22121395  2.30470528  2.30798013  2.32586939  2.34519908\n",
      "  2.35931793  2.37134988  2.6146483   2.64423581  2.65347585  2.71780644\n",
      "  2.80812955  2.88726478  2.9185357   2.98230443]\n"
     ]
    }
   ],
   "source": [
    "print(np.sort(my_data))"
   ]
  },
  {
   "cell_type": "code",
   "execution_count": 123,
   "metadata": {},
   "outputs": [],
   "source": [
    "# x_new[:,9] = np.sort(x_new[:,9])"
   ]
  },
  {
   "cell_type": "code",
   "execution_count": 124,
   "metadata": {},
   "outputs": [
    {
     "name": "stdout",
     "output_type": "stream",
     "text": [
      "[-2.98344224 -2.98042398 -2.93093633 -2.90726489 -2.85863475 -2.70201227\n",
      " -2.67901853 -2.50623986 -2.34682287 -2.32831555 -2.32483476 -2.32451155\n",
      " -2.31562053 -2.25395701 -2.11995328 -2.09352407 -2.07016764 -2.03994312\n",
      " -2.00489432 -1.9856559  -1.97197188 -1.89151223 -1.85812281 -1.83290088\n",
      " -1.68832478 -1.66049458 -1.62041798 -1.61791551 -1.54273273 -1.29749987\n",
      " -1.1685833  -0.98887545 -0.91948559 -0.90589097 -0.87556228 -0.85647175\n",
      " -0.73744016 -0.6048152  -0.54706308 -0.54348134 -0.44592505 -0.24837803\n",
      " -0.24221211 -0.22724097 -0.19259174 -0.18684948 -0.14888571 -0.07407644\n",
      " -0.05753308  0.09075489  0.10087232  0.22246076  0.24719347  0.27713973\n",
      "  0.28273423  0.3082472   0.37427062  0.38059274  0.44963394  0.45306792\n",
      "  0.45659726  0.49133788  0.63474954  0.66025357  0.73812308  0.79168156\n",
      "  0.93480962  0.95997145  1.05445162  1.05681527  1.10367316  1.14544962\n",
      "  1.19536502  1.2710909   1.33933941  1.35022891  1.35742517  1.41314963\n",
      "  1.46010288  1.79609212  1.85292117  1.95834548  2.01428946  2.08689725\n",
      "  2.09865096  2.22121387  2.3047052   2.30798024  2.32586933  2.34519925\n",
      "  2.35931811  2.37134995  2.61464853  2.6442357   2.65347576  2.71780652\n",
      "  2.80812955  2.88726458  2.91853546  2.98230449]\n"
     ]
    }
   ],
   "source": [
    "print(x_new[:,9])"
   ]
  },
  {
   "cell_type": "code",
   "execution_count": 114,
   "metadata": {},
   "outputs": [
    {
     "data": {
      "text/plain": [
       "<matplotlib.collections.PathCollection at 0x2b0c0a192f28>"
      ]
     },
     "execution_count": 114,
     "metadata": {},
     "output_type": "execute_result"
    },
    {
     "data": {
      "image/png": "[encoded data removed]",
      "text/plain": [
       "<Figure size 432x288 with 1 Axes>"
      ]
     },
     "metadata": {
      "needs_background": "light"
     },
     "output_type": "display_data"
    }
   ],
   "source": [
    " plt.scatter(x_new2[:,9], y_new2[:,42])\n",
    "# plt.title(y_train_idx[0])"
   ]
  },
  {
   "cell_type": "code",
   "execution_count": 52,
   "metadata": {},
   "outputs": [],
   "source": []
  },
  {
   "cell_type": "code",
   "execution_count": null,
   "metadata": {},
   "outputs": [],
   "source": []
  }
 ],
 "metadata": {
  "colab": {
   "collapsed_sections": [],
   "name": "Linear_ Dataset_Dataloader_ COPPER.ipynb",
   "provenance": []
  },
  "kernelspec": {
   "display_name": "Python 3",
   "language": "python",
   "name": "python3"
  },
  "language_info": {
   "codemirror_mode": {
    "name": "ipython",
    "version": 3
   },
   "file_extension": ".py",
   "mimetype": "text/x-python",
   "name": "python",
   "nbconvert_exporter": "python",
   "pygments_lexer": "ipython3",
   "version": "3.6.10"
  },
  "widgets": {
   "application/vnd.jupyter.widget-state+json": {
    "0324c2fcd0884df885ed4e9b5b5f2d50": {
     "model_module": "@jupyter-widgets/controls",
     "model_module_version": "1.5.0",
     "model_name": "HBoxModel",
     "state": {
      "_dom_classes": [],
      "_model_module": "@jupyter-widgets/controls",
      "_model_module_version": "1.5.0",
      "_model_name": "HBoxModel",
      "_view_count": null,
      "_view_module": "@jupyter-widgets/controls",
      "_view_module_version": "1.5.0",
      "_view_name": "HBoxView",
      "box_style": "",
      "children": [
       "IPY_MODEL_aacb7a8b39004ccc82bcfe605d636424",
       "IPY_MODEL_af2f8fa1dd7a4e8cb3de22583c829450",
       "IPY_MODEL_d9ed91bed8a84353b3d3146386f0fd6b"
      ],
      "layout": "IPY_MODEL_6ab338c613cc4b7e892be9193722fd2b"
     }
    },
    "2760633429d64ddd8aedd695f41ac1b8": {
     "model_module": "@jupyter-widgets/base",
     "model_module_version": "1.2.0",
     "model_name": "LayoutModel",
     "state": {
      "_model_module": "@jupyter-widgets/base",
      "_model_module_version": "1.2.0",
      "_model_name": "LayoutModel",
      "_view_count": null,
      "_view_module": "@jupyter-widgets/base",
      "_view_module_version": "1.2.0",
      "_view_name": "LayoutView",
      "align_content": null,
      "align_items": null,
      "align_self": null,
      "border": null,
      "bottom": null,
      "display": null,
      "flex": null,
      "flex_flow": null,
      "grid_area": null,
      "grid_auto_columns": null,
      "grid_auto_flow": null,
      "grid_auto_rows": null,
      "grid_column": null,
      "grid_gap": null,
      "grid_row": null,
      "grid_template_areas": null,
      "grid_template_columns": null,
      "grid_template_rows": null,
      "height": null,
      "justify_content": null,
      "justify_items": null,
      "left": null,
      "margin": null,
      "max_height": null,
      "max_width": null,
      "min_height": null,
      "min_width": null,
      "object_fit": null,
      "object_position": null,
      "order": null,
      "overflow": null,
      "overflow_x": null,
      "overflow_y": null,
      "padding": null,
      "right": null,
      "top": null,
      "visibility": null,
      "width": null
     }
    },
    "4b39df8afd1a4de0989b57cdb2c34d98": {
     "model_module": "@jupyter-widgets/base",
     "model_module_version": "1.2.0",
     "model_name": "LayoutModel",
     "state": {
      "_model_module": "@jupyter-widgets/base",
      "_model_module_version": "1.2.0",
      "_model_name": "LayoutModel",
      "_view_count": null,
      "_view_module": "@jupyter-widgets/base",
      "_view_module_version": "1.2.0",
      "_view_name": "LayoutView",
      "align_content": null,
      "align_items": null,
      "align_self": null,
      "border": null,
      "bottom": null,
      "display": null,
      "flex": null,
      "flex_flow": null,
      "grid_area": null,
      "grid_auto_columns": null,
      "grid_auto_flow": null,
      "grid_auto_rows": null,
      "grid_column": null,
      "grid_gap": null,
      "grid_row": null,
      "grid_template_areas": null,
      "grid_template_columns": null,
      "grid_template_rows": null,
      "height": null,
      "justify_content": null,
      "justify_items": null,
      "left": null,
      "margin": null,
      "max_height": null,
      "max_width": null,
      "min_height": null,
      "min_width": null,
      "object_fit": null,
      "object_position": null,
      "order": null,
      "overflow": null,
      "overflow_x": null,
      "overflow_y": null,
      "padding": null,
      "right": null,
      "top": null,
      "visibility": null,
      "width": null
     }
    },
    "6ab338c613cc4b7e892be9193722fd2b": {
     "model_module": "@jupyter-widgets/base",
     "model_module_version": "1.2.0",
     "model_name": "LayoutModel",
     "state": {
      "_model_module": "@jupyter-widgets/base",
      "_model_module_version": "1.2.0",
      "_model_name": "LayoutModel",
      "_view_count": null,
      "_view_module": "@jupyter-widgets/base",
      "_view_module_version": "1.2.0",
      "_view_name": "LayoutView",
      "align_content": null,
      "align_items": null,
      "align_self": null,
      "border": null,
      "bottom": null,
      "display": "inline-flex",
      "flex": null,
      "flex_flow": "row wrap",
      "grid_area": null,
      "grid_auto_columns": null,
      "grid_auto_flow": null,
      "grid_auto_rows": null,
      "grid_column": null,
      "grid_gap": null,
      "grid_row": null,
      "grid_template_areas": null,
      "grid_template_columns": null,
      "grid_template_rows": null,
      "height": null,
      "justify_content": null,
      "justify_items": null,
      "left": null,
      "margin": null,
      "max_height": null,
      "max_width": null,
      "min_height": null,
      "min_width": null,
      "object_fit": null,
      "object_position": null,
      "order": null,
      "overflow": null,
      "overflow_x": null,
      "overflow_y": null,
      "padding": null,
      "right": null,
      "top": null,
      "visibility": null,
      "width": "100%"
     }
    },
    "6d6885ceb7f14b01b545b7c515ea6c9c": {
     "model_module": "@jupyter-widgets/base",
     "model_module_version": "1.2.0",
     "model_name": "LayoutModel",
     "state": {
      "_model_module": "@jupyter-widgets/base",
      "_model_module_version": "1.2.0",
      "_model_name": "LayoutModel",
      "_view_count": null,
      "_view_module": "@jupyter-widgets/base",
      "_view_module_version": "1.2.0",
      "_view_name": "LayoutView",
      "align_content": null,
      "align_items": null,
      "align_self": null,
      "border": null,
      "bottom": null,
      "display": null,
      "flex": "2",
      "flex_flow": null,
      "grid_area": null,
      "grid_auto_columns": null,
      "grid_auto_flow": null,
      "grid_auto_rows": null,
      "grid_column": null,
      "grid_gap": null,
      "grid_row": null,
      "grid_template_areas": null,
      "grid_template_columns": null,
      "grid_template_rows": null,
      "height": null,
      "justify_content": null,
      "justify_items": null,
      "left": null,
      "margin": null,
      "max_height": null,
      "max_width": null,
      "min_height": null,
      "min_width": null,
      "object_fit": null,
      "object_position": null,
      "order": null,
      "overflow": null,
      "overflow_x": null,
      "overflow_y": null,
      "padding": null,
      "right": null,
      "top": null,
      "visibility": null,
      "width": null
     }
    },
    "aacb7a8b39004ccc82bcfe605d636424": {
     "model_module": "@jupyter-widgets/controls",
     "model_module_version": "1.5.0",
     "model_name": "HTMLModel",
     "state": {
      "_dom_classes": [],
      "_model_module": "@jupyter-widgets/controls",
      "_model_module_version": "1.5.0",
      "_model_name": "HTMLModel",
      "_view_count": null,
      "_view_module": "@jupyter-widgets/controls",
      "_view_module_version": "1.5.0",
      "_view_name": "HTMLView",
      "description": "",
      "description_tooltip": null,
      "layout": "IPY_MODEL_2760633429d64ddd8aedd695f41ac1b8",
      "placeholder": "​",
      "style": "IPY_MODEL_c0f0d0bea2454516bdb5456a93478a1e",
      "value": "Validation sanity check: 100%"
     }
    },
    "af2f8fa1dd7a4e8cb3de22583c829450": {
     "model_module": "@jupyter-widgets/controls",
     "model_module_version": "1.5.0",
     "model_name": "FloatProgressModel",
     "state": {
      "_dom_classes": [],
      "_model_module": "@jupyter-widgets/controls",
      "_model_module_version": "1.5.0",
      "_model_name": "FloatProgressModel",
      "_view_count": null,
      "_view_module": "@jupyter-widgets/controls",
      "_view_module_version": "1.5.0",
      "_view_name": "ProgressView",
      "bar_style": "",
      "description": "",
      "description_tooltip": null,
      "layout": "IPY_MODEL_6d6885ceb7f14b01b545b7c515ea6c9c",
      "max": 1,
      "min": 0,
      "orientation": "horizontal",
      "style": "IPY_MODEL_e2b95a36db544e1b8cb5c5f0ca1becff",
      "value": 1
     }
    },
    "bdc16080c18e49239f84e9da8a5c994c": {
     "model_module": "@jupyter-widgets/controls",
     "model_module_version": "1.5.0",
     "model_name": "DescriptionStyleModel",
     "state": {
      "_model_module": "@jupyter-widgets/controls",
      "_model_module_version": "1.5.0",
      "_model_name": "DescriptionStyleModel",
      "_view_count": null,
      "_view_module": "@jupyter-widgets/base",
      "_view_module_version": "1.2.0",
      "_view_name": "StyleView",
      "description_width": ""
     }
    },
    "c0f0d0bea2454516bdb5456a93478a1e": {
     "model_module": "@jupyter-widgets/controls",
     "model_module_version": "1.5.0",
     "model_name": "DescriptionStyleModel",
     "state": {
      "_model_module": "@jupyter-widgets/controls",
      "_model_module_version": "1.5.0",
      "_model_name": "DescriptionStyleModel",
      "_view_count": null,
      "_view_module": "@jupyter-widgets/base",
      "_view_module_version": "1.2.0",
      "_view_name": "StyleView",
      "description_width": ""
     }
    },
    "d9ed91bed8a84353b3d3146386f0fd6b": {
     "model_module": "@jupyter-widgets/controls",
     "model_module_version": "1.5.0",
     "model_name": "HTMLModel",
     "state": {
      "_dom_classes": [],
      "_model_module": "@jupyter-widgets/controls",
      "_model_module_version": "1.5.0",
      "_model_name": "HTMLModel",
      "_view_count": null,
      "_view_module": "@jupyter-widgets/controls",
      "_view_module_version": "1.5.0",
      "_view_name": "HTMLView",
      "description": "",
      "description_tooltip": null,
      "layout": "IPY_MODEL_4b39df8afd1a4de0989b57cdb2c34d98",
      "placeholder": "​",
      "style": "IPY_MODEL_bdc16080c18e49239f84e9da8a5c994c",
      "value": " 1/1 [00:00&lt;00:00,  8.67it/s]"
     }
    },
    "e2b95a36db544e1b8cb5c5f0ca1becff": {
     "model_module": "@jupyter-widgets/controls",
     "model_module_version": "1.5.0",
     "model_name": "ProgressStyleModel",
     "state": {
      "_model_module": "@jupyter-widgets/controls",
      "_model_module_version": "1.5.0",
      "_model_name": "ProgressStyleModel",
      "_view_count": null,
      "_view_module": "@jupyter-widgets/base",
      "_view_module_version": "1.2.0",
      "_view_name": "StyleView",
      "bar_color": null,
      "description_width": ""
     }
    }
   }
  }
 },
 "nbformat": 4,
 "nbformat_minor": 4
}
