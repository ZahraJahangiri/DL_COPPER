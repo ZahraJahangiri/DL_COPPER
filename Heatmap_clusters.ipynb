{
 "cells": [
  {
   "cell_type": "markdown",
   "metadata": {},
   "source": [
    "# Import"
   ]
  },
  {
   "cell_type": "code",
   "execution_count": 9,
   "metadata": {},
   "outputs": [
    {
     "ename": "ModuleNotFoundError",
     "evalue": "No module named 'torch'",
     "output_type": "error",
     "traceback": [
      "\u001b[1;31m---------------------------------------------------------------------------\u001b[0m",
      "\u001b[1;31mModuleNotFoundError\u001b[0m                       Traceback (most recent call last)",
      "\u001b[1;32m<ipython-input-9-8cfe9dc91a3b>\u001b[0m in \u001b[0;36m<module>\u001b[1;34m()\u001b[0m\n\u001b[0;32m     10\u001b[0m \u001b[1;32mimport\u001b[0m \u001b[0mpandas\u001b[0m \u001b[1;32mas\u001b[0m \u001b[0mpd\u001b[0m\u001b[1;33m\u001b[0m\u001b[1;33m\u001b[0m\u001b[0m\n\u001b[0;32m     11\u001b[0m \u001b[1;31m# from sklearn.model_selection import train_test_split\u001b[0m\u001b[1;33m\u001b[0m\u001b[1;33m\u001b[0m\u001b[1;33m\u001b[0m\u001b[0m\n\u001b[1;32m---> 12\u001b[1;33m \u001b[1;32mfrom\u001b[0m \u001b[0mtorch\u001b[0m\u001b[1;33m.\u001b[0m\u001b[0mutils\u001b[0m\u001b[1;33m.\u001b[0m\u001b[0mdata\u001b[0m \u001b[1;32mimport\u001b[0m \u001b[0mDataset\u001b[0m\u001b[1;33m,\u001b[0m \u001b[0mTensorDataset\u001b[0m\u001b[1;33m,\u001b[0m \u001b[0mDataLoader\u001b[0m\u001b[1;33m,\u001b[0m \u001b[0mrandom_split\u001b[0m\u001b[1;33m,\u001b[0m \u001b[0mSubsetRandomSampler\u001b[0m\u001b[1;33m\u001b[0m\u001b[1;33m\u001b[0m\u001b[0m\n\u001b[0m\u001b[0;32m     13\u001b[0m \u001b[1;32mimport\u001b[0m \u001b[0mtorchvision\u001b[0m\u001b[1;33m.\u001b[0m\u001b[0mmodels\u001b[0m \u001b[1;32mas\u001b[0m \u001b[0mmodels\u001b[0m\u001b[1;33m\u001b[0m\u001b[1;33m\u001b[0m\u001b[0m\n\u001b[0;32m     14\u001b[0m \u001b[1;32mfrom\u001b[0m \u001b[0mtorch\u001b[0m\u001b[1;33m.\u001b[0m\u001b[0mutils\u001b[0m\u001b[1;33m.\u001b[0m\u001b[0mtensorboard\u001b[0m \u001b[1;32mimport\u001b[0m \u001b[0mSummaryWriter\u001b[0m\u001b[1;33m\u001b[0m\u001b[1;33m\u001b[0m\u001b[0m\n",
      "\u001b[1;31mModuleNotFoundError\u001b[0m: No module named 'torch'"
     ]
    }
   ],
   "source": [
    "import torch\n",
    "import torchvision\n",
    "from torchvision import transforms\n",
    "import torch.nn as nn\n",
    "import time\n",
    "import copy\n",
    "import torch.nn.functional as F\n",
    "import matplotlib.pyplot as plt\n",
    "import numpy as np\n",
    "import pandas as pd\n",
    "from sklearn.model_selection import train_test_split\n",
    "from torch.utils.data import Dataset, TensorDataset, DataLoader, random_split, SubsetRandomSampler\n",
    "import torchvision.models as models\n",
    "from torch.utils.tensorboard import SummaryWriter\n",
    "import pytorch_lightning as pl\n",
    "from pytorch_lightning import Trainer\n",
    "import os\n",
    "import re\n",
    "import shutil\n",
    "import sys\n",
    "import ipywidgets\n",
    "from scipy import stats\n",
    "from os import listdir\n",
    "from textwrap import wrap\n",
    "import statistics\n",
    "from sklearn.metrics import r2_score\n",
    "#from pytorch_lightning.callbacks import ModelCheckpoint"
   ]
  },
  {
   "cell_type": "code",
   "execution_count": null,
   "metadata": {},
   "outputs": [],
   "source": [
    "AVAIL_GPUS = torch.cuda.device_count()\n",
    "print(AVAIL_GPUS)\n",
    "device = torch.device('cuda' if torch.cuda.is_available() else 'cpu')"
   ]
  },
  {
   "cell_type": "code",
   "execution_count": 1,
   "metadata": {},
   "outputs": [],
   "source": [
    "rows = []\n",
    "for i in range(57):\n",
    "    rows.append(i)"
   ]
  },
  {
   "cell_type": "code",
   "execution_count": 43,
   "metadata": {},
   "outputs": [],
   "source": [
    "cols = []\n",
    "for i in range(38):\n",
    "    cols.append(i)"
   ]
  },
  {
   "cell_type": "code",
   "execution_count": 2,
   "metadata": {},
   "outputs": [],
   "source": [
    "# just for 2030\n",
    "rows_2030 = [0,3, 6, 9, 12, 15, 18, 21, 24, 27, 28, 29, 30, 31, 32, 33, 51, 54]"
   ]
  },
  {
   "cell_type": "code",
   "execution_count": 21,
   "metadata": {},
   "outputs": [],
   "source": [
    "srows_2030 = []\n",
    "for i in range(57):\n",
    "    if i not in rows_2030:\n",
    "        srows_2030.append(i)"
   ]
  },
  {
   "cell_type": "code",
   "execution_count": 63,
   "metadata": {},
   "outputs": [
    {
     "name": "stdout",
     "output_type": "stream",
     "text": [
      "[1, 2, 4, 5, 7, 8, 10, 11, 13, 14, 16, 17, 19, 20, 22, 23, 25, 26, 34, 35, 36, 37, 38, 39, 40, 41, 42, 43, 44, 45, 46, 47, 48, 49, 51, 52, 53, 55, 56]\n"
     ]
    }
   ],
   "source": [
    "print(srows_2030)"
   ]
  },
  {
   "cell_type": "code",
   "execution_count": 3,
   "metadata": {},
   "outputs": [],
   "source": [
    "cols_2030 = [0, 1, 2, 3, 4, 5, 6, 7, 8, 9, 12, 15, 18, 23, 26, 29, 32, 35]"
   ]
  },
  {
   "cell_type": "code",
   "execution_count": 4,
   "metadata": {},
   "outputs": [],
   "source": [
    "    cols_2040 = [0, 1, 2, 3, 4, 5, 6, 7, 8, 10, 13, 16, 19, 21, 24, 27, 30, 33, 36]"
   ]
  },
  {
   "cell_type": "code",
   "execution_count": 5,
   "metadata": {},
   "outputs": [],
   "source": [
    "cols_2050 = [0, 1, 2, 3, 4, 5, 6, 7, 8, 11, 14, 17, 20, 22, 25, 28, 31, 34, 37]"
   ]
  },
  {
   "cell_type": "code",
   "execution_count": 6,
   "metadata": {},
   "outputs": [],
   "source": [
    "import pandas as pd\n",
    "df_2030 = pd.read_excel('Clusters_3_removed.xlsx', header = 0, \n",
    "                        usecols = cols_2030, nrows = 57, engine='openpyxl')"
   ]
  },
  {
   "cell_type": "code",
   "execution_count": 10,
   "metadata": {},
   "outputs": [],
   "source": [
    "df_2040 = pd.read_excel('Clusters_3_removed.xlsx', header = 0, \n",
    "                        usecols = cols_2040, nrows = 57, engine='openpyxl')"
   ]
  },
  {
   "cell_type": "code",
   "execution_count": 44,
   "metadata": {},
   "outputs": [],
   "source": [
    "df_2050 = pd.read_excel('Clusters_3_removed.xlsx', header = 0, \n",
    "                        usecols = cols_2050, nrows = 57, engine='openpyxl')"
   ]
  },
  {
   "cell_type": "code",
   "execution_count": 34,
   "metadata": {},
   "outputs": [],
   "source": [
    "cols2030_names = ['CC_Coal', 'CC_Diesel', 'CC_Gas', 'CC_Nuclear', 'CC_Peaker', 'CC_Waste', 'CC_Wind',\n",
    "                          'CC_Solar', 'Carbon Tax', 'AGR_BC', 'AGR_AB', 'AGR_Sk', 'AGR_MB', 'AGR_QC', 'AGR_NB',\n",
    "                          'AGR_PE', 'AGR_NS', 'AGR_NL' ]"
   ]
  },
  {
   "cell_type": "code",
   "execution_count": 49,
   "metadata": {},
   "outputs": [],
   "source": [
    "rows2030_names = ['CE_AB', 'CE_SK', 'CE_MB', 'CE_ON', 'CE_QC','CE_NB','CE_NF','CE_NS','CE_PE','GG_AB'\n",
    "                 ,'GG_SK','GG_MB', 'GG_QB', 'GG_NB', 'GG_NS', 'WG_PE', 'GG_Canada', 'WG_Canada']"
   ]
  },
  {
   "cell_type": "code",
   "execution_count": 35,
   "metadata": {},
   "outputs": [],
   "source": [
    "df_2030_2 = df_2030.set_axis(cols2030_names, axis=1)"
   ]
  },
  {
   "cell_type": "code",
   "execution_count": 50,
   "metadata": {},
   "outputs": [],
   "source": [
    "df_2030_2 = df_2030_2.set_axis(rows2030_names, axis=0)"
   ]
  },
  {
   "cell_type": "code",
   "execution_count": 41,
   "metadata": {},
   "outputs": [
    {
     "name": "stdout",
     "output_type": "stream",
     "text": [
      "           CC_Coal  CC_Diesel  CC_Gas  CC_Nuclear  CC_Peaker  CC_Waste  \\\n",
      "CE_AB            3          3       3           3          3         3   \n",
      "CE_SK            3          3       1           3          3         3   \n",
      "CE_MB            3          3       7           3          3         3   \n",
      "CE_ON            3          3       2           3          3         3   \n",
      "CE_QC            3          3       3           3          3         3   \n",
      "CE_NB            3          3       2           3          3         3   \n",
      "CE_NF            3          3       1           3          3         3   \n",
      "CE_NS            3          3       2           3          3         3   \n",
      "CE_PE            3          3       8           3          3         3   \n",
      "GG_AB            3          3       3           3          3         3   \n",
      "GG_SK            3          3       6           3          3         3   \n",
      "GG_MB            3          3       7           3          3         3   \n",
      "GG_QB            3          3       3           3          3         3   \n",
      "GG_NB            3          3       2           3          3         3   \n",
      "GG_NS            3          3       1           3          3         3   \n",
      "WG_PE            3          3       5           3          3         3   \n",
      "GG_Canada        3          3       2           3          3         3   \n",
      "WG,Canada        3          3       3           3          3         3   \n",
      "\n",
      "           CC_Wind  CC_Solar  Carbon Tax  AGR_BC  AGR_AB  AGR_Sk  AGR_MB  \\\n",
      "CE_AB            6         3           3       5       5       5       5   \n",
      "CE_SK            6         3           5       5       5       5       5   \n",
      "CE_MB            5         3           2       4       4       4       4   \n",
      "CE_ON            5         3           3       3       3       3       3   \n",
      "CE_QC            5         3           3       4       4       4       4   \n",
      "CE_NB            5         3           4       3       3       3       3   \n",
      "CE_NF            5         3           5       4       4       4       3   \n",
      "CE_NS            5         3           4       3       3       3       3   \n",
      "CE_PE            6         3           3       4       4       4       4   \n",
      "GG_AB            6         3           3       5       5       5       5   \n",
      "GG_SK            6         3           8       5       5       5       5   \n",
      "GG_MB            5         3           2       4       4       4       4   \n",
      "GG_QB            5         3           3       4       4       4       4   \n",
      "GG_NB            5         3           4       3       3       3       3   \n",
      "GG_NS            5         3           5       3       3       3       3   \n",
      "WG_PE            8         3           2       3       3       3       3   \n",
      "GG_Canada        5         3           4       4       4       4       4   \n",
      "WG,Canada        1         3           3       3       3       3       3   \n",
      "\n",
      "           AGR_QC  AGR_NB  AGR_PE  AGR_NS  AGR_NL  \n",
      "CE_AB           5       5       5       5       5  \n",
      "CE_SK           5       5       5       5       5  \n",
      "CE_MB           4       4       4       4       4  \n",
      "CE_ON           3       3       3       3       3  \n",
      "CE_QC           4       4       4       4       4  \n",
      "CE_NB           3       3       3       3       3  \n",
      "CE_NF           3       3       3       2       5  \n",
      "CE_NS           3       3       3       3       3  \n",
      "CE_PE           4       4       4       4       4  \n",
      "GG_AB           5       5       5       5       5  \n",
      "GG_SK           5       5       5       5       5  \n",
      "GG_MB           4       4       4       4       4  \n",
      "GG_QB           4       4       4       4       4  \n",
      "GG_NB           3       3       3       3       3  \n",
      "GG_NS           3       3       3       3       3  \n",
      "WG_PE           3       3       3       3       3  \n",
      "GG_Canada       4       4       4       4       4  \n",
      "WG,Canada       3       3       3       3       3  \n"
     ]
    }
   ],
   "source": [
    "print(df_2030_2)"
   ]
  },
  {
   "cell_type": "code",
   "execution_count": 12,
   "metadata": {},
   "outputs": [
    {
     "name": "stdout",
     "output_type": "stream",
     "text": [
      "    0   1   2   3   4   5   6   7   8   9   12  15  18  23  26  29  32  35\n",
      "0    3   3   3   3   3   3   6   3   3   5   5   5   5   5   5   5   5   5\n",
      "3    3   3   1   3   3   3   6   3   5   5   5   5   5   5   5   5   5   5\n",
      "6    3   3   7   3   3   3   5   3   2   4   4   4   4   4   4   4   4   4\n",
      "9    3   3   2   3   3   3   5   3   3   3   3   3   3   3   3   3   3   3\n",
      "12   3   3   3   3   3   3   5   3   3   4   4   4   4   4   4   4   4   4\n",
      "15   3   3   2   3   3   3   5   3   4   3   3   3   3   3   3   3   3   3\n",
      "18   3   3   1   3   3   3   5   3   5   4   4   4   3   3   3   3   2   5\n",
      "21   3   3   2   3   3   3   5   3   4   3   3   3   3   3   3   3   3   3\n",
      "24   3   3   8   3   3   3   6   3   3   4   4   4   4   4   4   4   4   4\n",
      "27   3   3   3   3   3   3   6   3   3   5   5   5   5   5   5   5   5   5\n",
      "28   3   3   6   3   3   3   6   3   8   5   5   5   5   5   5   5   5   5\n",
      "29   3   3   7   3   3   3   5   3   2   4   4   4   4   4   4   4   4   4\n",
      "30   3   3   3   3   3   3   5   3   3   4   4   4   4   4   4   4   4   4\n",
      "31   3   3   2   3   3   3   5   3   4   3   3   3   3   3   3   3   3   3\n",
      "32   3   3   1   3   3   3   5   3   5   3   3   3   3   3   3   3   3   3\n",
      "33   3   3   5   3   3   3   8   3   2   3   3   3   3   3   3   3   3   3\n",
      "51   3   3   2   3   3   3   5   3   4   4   4   4   4   4   4   4   4   4\n",
      "54   3   3   3   3   3   3   1   3   3   3   3   3   3   3   3   3   3   3\n"
     ]
    }
   ],
   "source": [
    "from pandas import DataFrame\n",
    "df_2030 = df_2030.drop([1, 2, 4, 5, 7, 8, 10, 11, 13, 14, 16, 17, 19, 20, 22, 23, 25, 26, 34, 35, 36, 37, 38, 39, 40, 41, 42, 43, 44, 45, 46, 47, 48, 49, 50, 52, 53, 55, 56])\n",
    "print(df_2030)"
   ]
  },
  {
   "cell_type": "code",
   "execution_count": 32,
   "metadata": {},
   "outputs": [],
   "source": [
    "list2040 =[1, 4, 7, 10, 13, 16, 19, 22, 25, 34, 35, 36, 37, 38, 39, 40, 41, 52, 55]\n",
    "\n",
    "drop_rows_2040 = []\n",
    "for i in range(57):\n",
    "    if i not in list2040:\n",
    "        drop_rows_2040.append(i)"
   ]
  },
  {
   "cell_type": "code",
   "execution_count": 34,
   "metadata": {},
   "outputs": [
    {
     "name": "stdout",
     "output_type": "stream",
     "text": [
      "[0, 2, 3, 5, 6, 8, 9, 11, 12, 14, 15, 17, 18, 20, 21, 23, 24, 26, 27, 28, 29, 30, 31, 32, 33, 42, 43, 44, 45, 46, 47, 48, 49, 50, 51, 53, 54, 56]\n"
     ]
    }
   ],
   "source": [
    "print(drop_rows_2040)"
   ]
  },
  {
   "cell_type": "code",
   "execution_count": 36,
   "metadata": {},
   "outputs": [
    {
     "name": "stdout",
     "output_type": "stream",
     "text": [
      "    0   1   2   3   4   5   6   7   8   10  13  16  19  21  24  27  30  33  36\n",
      "1    3   3   3   3   3   3   6   3   3   5   5   5   5   5   5   5   5   5   5\n",
      "4    3   3   3   3   3   3   6   3   3   5   5   5   5   5   5   5   5   5   5\n",
      "7    3   3   3   3   3   3   4   3   3   5   5   5   5   5   5   5   5   5   5\n",
      "10   3   3   3   3   3   3   5   3   3   3   3   3   3   3   3   3   3   3   3\n",
      "13   3   3   3   3   3   3   5   3   3   4   4   4   4   4   4   4   4   4   4\n",
      "16   3   3   2   3   3   3   5   3   4   3   3   3   3   3   3   3   3   3   3\n",
      "19   3   3   6   3   3   3   6   3   4   4   4   4   4   4   4   4   4   2   4\n",
      "22   3   3   2   3   3   3   5   3   4   3   3   3   3   3   3   3   3   3   3\n",
      "25   3   3   8   3   3   3   6   3   8   4   4   4   4   4   4   4   4   2   4\n",
      "34   3   3   3   3   3   3   6   3   3   5   5   5   5   5   5   5   5   5   5\n",
      "35   3   3   3   3   3   3   6   3   3   5   5   5   5   5   5   5   5   5   5\n",
      "36   3   3   3   3   3   3   6   3   3   5   5   5   5   5   5   5   5   5   5\n",
      "37   3   3   3   3   3   3   5   3   3   3   3   3   3   3   3   3   3   3   3\n",
      "38   3   3   1   3   3   3   8   3   8   5   5   5   5   5   5   5   5   5   5\n",
      "39   3   3   2   3   3   3   5   3   4   3   3   3   3   3   3   3   3   3   3\n",
      "40   3   3   6   3   3   3   5   3   4   3   3   3   3   3   3   3   3   3   3\n",
      "41   6   6   6   6   6   6   8   6   6   6   6   6   6   6   6   6   6   6   6\n",
      "52   3   3   2   3   3   3   5   3   4   4   4   4   4   4   4   4   4   4   4\n",
      "55   3   3   3   3   3   3   1   3   3   3   3   3   3   3   3   3   3   3   3\n"
     ]
    }
   ],
   "source": [
    "from pandas import DataFrame\n",
    "df_2040 = df_2040.drop(drop_rows_2040)\n",
    "print(df_2040)"
   ]
  },
  {
   "cell_type": "code",
   "execution_count": 45,
   "metadata": {},
   "outputs": [],
   "source": [
    "list2050 =[2,5, 8, 11,14, 17,20,23, 26, 42, 43, 44, 45, 46, 47, 48, 49,  50, 53, 56]\n",
    "\n",
    "drop_rows_2050 = []\n",
    "for i in range(57):\n",
    "    if i not in list2050:\n",
    "        drop_rows_2050.append(i)"
   ]
  },
  {
   "cell_type": "code",
   "execution_count": 46,
   "metadata": {},
   "outputs": [
    {
     "name": "stdout",
     "output_type": "stream",
     "text": [
      "    0   1   2   3   4   5   6   7   8   11  14  17  20  22  25  28  31  34  37\n",
      "2    3   3   3   3   3   3   6   3   3   5   5   5   5   5   5   5   5   5   5\n",
      "5    3   3   3   3   3   3   6   3   3   5   5   5   5   5   5   5   5   5   5\n",
      "8    3   3   7   3   3   3   4   3   3   5   5   5   5   5   5   5   5   5   5\n",
      "11   3   3   2   3   3   3   5   3   4   3   3   3   3   3   3   3   3   3   3\n",
      "14   3   3   3   3   3   3   5   3   3   4   4   4   4   4   4   4   4   4   4\n",
      "17   3   3   1   3   3   3   5   3   4   3   3   3   3   3   3   3   3   3   3\n",
      "20   3   3   4   3   3   3   6   3   6   4   4   4   4   4   4   4   4   4   4\n",
      "23   3   3   2   3   3   3   5   3   4   3   3   3   3   3   3   3   3   3   3\n",
      "26   3   3   1   3   3   3   8   3   5   4   4   3   3   2   3   4   2   3   3\n",
      "42   3   3   3   3   3   3   6   3   3   5   5   5   5   5   5   5   5   5   5\n",
      "43   3   3   3   3   3   3   6   3   3   5   5   5   5   5   5   5   5   5   5\n",
      "44   3   3   3   3   3   3   6   3   3   5   5   5   5   5   5   5   5   5   5\n",
      "45   3   3   2   3   3   3   5   3   3   3   3   3   3   3   3   3   3   3   3\n",
      "46   3   3   1   3   3   3   8   3   8   5   5   5   5   5   5   5   5   5   5\n",
      "47   3   3   1   3   3   3   5   3   4   3   3   3   3   3   3   3   3   3   3\n",
      "48   3   3   1   3   3   3   6   3   4   3   3   3   3   3   3   3   3   3   3\n",
      "49   3   3   1   3   3   3   8   3   4   3   4   4   2   3   4   4   3   3   4\n",
      "50   3   3   4   3   3   3   6   3   2   3   3   3   3   3   3   3   3   3   3\n",
      "53   3   3   2   3   3   3   5   3   4   4   4   4   4   4   4   4   4   4   4\n",
      "56   3   3   4   3   3   3   1   3   2   3   3   3   3   3   3   3   3   3   3\n"
     ]
    }
   ],
   "source": [
    "from pandas import DataFrame\n",
    "df_2050 = df_2050.drop(drop_rows_2050)\n",
    "print(df_2050)"
   ]
  },
  {
   "cell_type": "code",
   "execution_count": 52,
   "metadata": {},
   "outputs": [
    {
     "data": {
      "image/png": "[encoded data removed]",
      "text/plain": [
       "<Figure size 1080x720 with 2 Axes>"
      ]
     },
     "metadata": {},
     "output_type": "display_data"
    }
   ],
   "source": [
    "import seaborn as sns\n",
    "import numpy as np\n",
    "import matplotlib.pyplot as plt\n",
    "\n",
    "# plot a heatmap\n",
    "sns.set(rc = {'figure.figsize':(15,10)})\n",
    "ax = sns.heatmap(df_2030_2, linewidths=0.005, linecolor='lightgray', robust=True, fmt=\"f\", cmap=\"mako\", vmin=0, vmax=8)\n",
    "\n",
    "colorbar = ax.collections[0].colorbar\n",
    "colorbar.set_ticks( [0.5, 1.5, 2.5, 3.5, 4.5, 5.5, 6.5, 7.5, 8.5], update_ticks=True)\n",
    "colorbar.set_ticklabels(['Strongly negative', 'Negative', 'Relatively insensitive', 'Strongly positive', 'Positive', ' Bell-shape',  'Reversed bell-shape', 'Unknown'])\n",
    "\n",
    "\n",
    "_, labels = plt.xticks()\n",
    "plt.setp(labels, rotation=45, horizontalalignment='right')\n",
    "plt.savefig('heatmap2030_named.png')\n"
   ]
  },
  {
   "cell_type": "code",
   "execution_count": 30,
   "metadata": {
    "scrolled": true
   },
   "outputs": [
    {
     "data": {
      "image/png": "[encoded data removed]",
      "text/plain": [
       "<Figure size 1440x1296 with 2 Axes>"
      ]
     },
     "metadata": {},
     "output_type": "display_data"
    }
   ],
   "source": [
    "import seaborn as sns\n",
    "import numpy as np\n",
    "import matplotlib.pyplot as plt\n",
    "\n",
    "# plot a heatmap\n",
    "sns.set(rc = {'figure.figsize':(20,18)})\n",
    "ax = sns.heatmap(df, linewidths=0.005, linecolor='lightgray', robust=True, fmt=\"f\", cmap=\"mako\", vmin=0, vmax=8)\n",
    "\n",
    "colorbar = ax.collections[0].colorbar\n",
    "colorbar.set_ticks( [0.5, 1.5, 2.5, 3.5, 4.5, 5.5, 6.5, 7.5, 8.5], update_ticks=True)\n",
    "colorbar.set_ticklabels(['Strongly negative', 'negative', 'Relatively insensitive', 'Strongly positive', 'Positive', ' Bell-shape',  'Reversed bell-shape', 'Unknown'])\n",
    "\n",
    "\n",
    "\n",
    "\n",
    "# X - Y axis labels\n",
    "# ax.set_ylabel('Outputs')\n",
    "# ax.set_xlabel('Inputs')\n",
    "\n",
    "# Only y-axis labels need their rotation set, x-axis labels already have a rotation of 0\n",
    "_, labels = plt.yticks()\n",
    "plt.setp(labels, rotation=0)\n",
    "plt.savefig('heatmap.png')\n",
    "# sns.palplot(sns.diverging_palette(200, 100, n=11))\n",
    "# sns.color_palette(palette=None, n_colors=8, desat=None, as_cmap=False,  )\n",
    "# sns.color_palette(\"rocket\", as_cmap=True)"
   ]
  }
 ],
 "metadata": {
  "colab": {
   "collapsed_sections": [],
   "name": "Linear_ Dataset_Dataloader_ COPPER.ipynb",
   "provenance": []
  },
  "kernelspec": {
   "display_name": "Python 3",
   "language": "python",
   "name": "python3"
  },
  "language_info": {
   "codemirror_mode": {
    "name": "ipython",
    "version": 3
   },
   "file_extension": ".py",
   "mimetype": "text/x-python",
   "name": "python",
   "nbconvert_exporter": "python",
   "pygments_lexer": "ipython3",
   "version": "3.6.12"
  },
  "widgets": {
   "application/vnd.jupyter.widget-state+json": {
    "0324c2fcd0884df885ed4e9b5b5f2d50": {
     "model_module": "@jupyter-widgets/controls",
     "model_module_version": "1.5.0",
     "model_name": "HBoxModel",
     "state": {
      "_dom_classes": [],
      "_model_module": "@jupyter-widgets/controls",
      "_model_module_version": "1.5.0",
      "_model_name": "HBoxModel",
      "_view_count": null,
      "_view_module": "@jupyter-widgets/controls",
      "_view_module_version": "1.5.0",
      "_view_name": "HBoxView",
      "box_style": "",
      "children": [
       "IPY_MODEL_aacb7a8b39004ccc82bcfe605d636424",
       "IPY_MODEL_af2f8fa1dd7a4e8cb3de22583c829450",
       "IPY_MODEL_d9ed91bed8a84353b3d3146386f0fd6b"
      ],
      "layout": "IPY_MODEL_6ab338c613cc4b7e892be9193722fd2b"
     }
    },
    "2760633429d64ddd8aedd695f41ac1b8": {
     "model_module": "@jupyter-widgets/base",
     "model_module_version": "1.2.0",
     "model_name": "LayoutModel",
     "state": {
      "_model_module": "@jupyter-widgets/base",
      "_model_module_version": "1.2.0",
      "_model_name": "LayoutModel",
      "_view_count": null,
      "_view_module": "@jupyter-widgets/base",
      "_view_module_version": "1.2.0",
      "_view_name": "LayoutView",
      "align_content": null,
      "align_items": null,
      "align_self": null,
      "border": null,
      "bottom": null,
      "display": null,
      "flex": null,
      "flex_flow": null,
      "grid_area": null,
      "grid_auto_columns": null,
      "grid_auto_flow": null,
      "grid_auto_rows": null,
      "grid_column": null,
      "grid_gap": null,
      "grid_row": null,
      "grid_template_areas": null,
      "grid_template_columns": null,
      "grid_template_rows": null,
      "height": null,
      "justify_content": null,
      "justify_items": null,
      "left": null,
      "margin": null,
      "max_height": null,
      "max_width": null,
      "min_height": null,
      "min_width": null,
      "object_fit": null,
      "object_position": null,
      "order": null,
      "overflow": null,
      "overflow_x": null,
      "overflow_y": null,
      "padding": null,
      "right": null,
      "top": null,
      "visibility": null,
      "width": null
     }
    },
    "4b39df8afd1a4de0989b57cdb2c34d98": {
     "model_module": "@jupyter-widgets/base",
     "model_module_version": "1.2.0",
     "model_name": "LayoutModel",
     "state": {
      "_model_module": "@jupyter-widgets/base",
      "_model_module_version": "1.2.0",
      "_model_name": "LayoutModel",
      "_view_count": null,
      "_view_module": "@jupyter-widgets/base",
      "_view_module_version": "1.2.0",
      "_view_name": "LayoutView",
      "align_content": null,
      "align_items": null,
      "align_self": null,
      "border": null,
      "bottom": null,
      "display": null,
      "flex": null,
      "flex_flow": null,
      "grid_area": null,
      "grid_auto_columns": null,
      "grid_auto_flow": null,
      "grid_auto_rows": null,
      "grid_column": null,
      "grid_gap": null,
      "grid_row": null,
      "grid_template_areas": null,
      "grid_template_columns": null,
      "grid_template_rows": null,
      "height": null,
      "justify_content": null,
      "justify_items": null,
      "left": null,
      "margin": null,
      "max_height": null,
      "max_width": null,
      "min_height": null,
      "min_width": null,
      "object_fit": null,
      "object_position": null,
      "order": null,
      "overflow": null,
      "overflow_x": null,
      "overflow_y": null,
      "padding": null,
      "right": null,
      "top": null,
      "visibility": null,
      "width": null
     }
    },
    "6ab338c613cc4b7e892be9193722fd2b": {
     "model_module": "@jupyter-widgets/base",
     "model_module_version": "1.2.0",
     "model_name": "LayoutModel",
     "state": {
      "_model_module": "@jupyter-widgets/base",
      "_model_module_version": "1.2.0",
      "_model_name": "LayoutModel",
      "_view_count": null,
      "_view_module": "@jupyter-widgets/base",
      "_view_module_version": "1.2.0",
      "_view_name": "LayoutView",
      "align_content": null,
      "align_items": null,
      "align_self": null,
      "border": null,
      "bottom": null,
      "display": "inline-flex",
      "flex": null,
      "flex_flow": "row wrap",
      "grid_area": null,
      "grid_auto_columns": null,
      "grid_auto_flow": null,
      "grid_auto_rows": null,
      "grid_column": null,
      "grid_gap": null,
      "grid_row": null,
      "grid_template_areas": null,
      "grid_template_columns": null,
      "grid_template_rows": null,
      "height": null,
      "justify_content": null,
      "justify_items": null,
      "left": null,
      "margin": null,
      "max_height": null,
      "max_width": null,
      "min_height": null,
      "min_width": null,
      "object_fit": null,
      "object_position": null,
      "order": null,
      "overflow": null,
      "overflow_x": null,
      "overflow_y": null,
      "padding": null,
      "right": null,
      "top": null,
      "visibility": null,
      "width": "100%"
     }
    },
    "6d6885ceb7f14b01b545b7c515ea6c9c": {
     "model_module": "@jupyter-widgets/base",
     "model_module_version": "1.2.0",
     "model_name": "LayoutModel",
     "state": {
      "_model_module": "@jupyter-widgets/base",
      "_model_module_version": "1.2.0",
      "_model_name": "LayoutModel",
      "_view_count": null,
      "_view_module": "@jupyter-widgets/base",
      "_view_module_version": "1.2.0",
      "_view_name": "LayoutView",
      "align_content": null,
      "align_items": null,
      "align_self": null,
      "border": null,
      "bottom": null,
      "display": null,
      "flex": "2",
      "flex_flow": null,
      "grid_area": null,
      "grid_auto_columns": null,
      "grid_auto_flow": null,
      "grid_auto_rows": null,
      "grid_column": null,
      "grid_gap": null,
      "grid_row": null,
      "grid_template_areas": null,
      "grid_template_columns": null,
      "grid_template_rows": null,
      "height": null,
      "justify_content": null,
      "justify_items": null,
      "left": null,
      "margin": null,
      "max_height": null,
      "max_width": null,
      "min_height": null,
      "min_width": null,
      "object_fit": null,
      "object_position": null,
      "order": null,
      "overflow": null,
      "overflow_x": null,
      "overflow_y": null,
      "padding": null,
      "right": null,
      "top": null,
      "visibility": null,
      "width": null
     }
    },
    "aacb7a8b39004ccc82bcfe605d636424": {
     "model_module": "@jupyter-widgets/controls",
     "model_module_version": "1.5.0",
     "model_name": "HTMLModel",
     "state": {
      "_dom_classes": [],
      "_model_module": "@jupyter-widgets/controls",
      "_model_module_version": "1.5.0",
      "_model_name": "HTMLModel",
      "_view_count": null,
      "_view_module": "@jupyter-widgets/controls",
      "_view_module_version": "1.5.0",
      "_view_name": "HTMLView",
      "description": "",
      "description_tooltip": null,
      "layout": "IPY_MODEL_2760633429d64ddd8aedd695f41ac1b8",
      "placeholder": "​",
      "style": "IPY_MODEL_c0f0d0bea2454516bdb5456a93478a1e",
      "value": "Validation sanity check: 100%"
     }
    },
    "af2f8fa1dd7a4e8cb3de22583c829450": {
     "model_module": "@jupyter-widgets/controls",
     "model_module_version": "1.5.0",
     "model_name": "FloatProgressModel",
     "state": {
      "_dom_classes": [],
      "_model_module": "@jupyter-widgets/controls",
      "_model_module_version": "1.5.0",
      "_model_name": "FloatProgressModel",
      "_view_count": null,
      "_view_module": "@jupyter-widgets/controls",
      "_view_module_version": "1.5.0",
      "_view_name": "ProgressView",
      "bar_style": "",
      "description": "",
      "description_tooltip": null,
      "layout": "IPY_MODEL_6d6885ceb7f14b01b545b7c515ea6c9c",
      "max": 1,
      "min": 0,
      "orientation": "horizontal",
      "style": "IPY_MODEL_e2b95a36db544e1b8cb5c5f0ca1becff",
      "value": 1
     }
    },
    "bdc16080c18e49239f84e9da8a5c994c": {
     "model_module": "@jupyter-widgets/controls",
     "model_module_version": "1.5.0",
     "model_name": "DescriptionStyleModel",
     "state": {
      "_model_module": "@jupyter-widgets/controls",
      "_model_module_version": "1.5.0",
      "_model_name": "DescriptionStyleModel",
      "_view_count": null,
      "_view_module": "@jupyter-widgets/base",
      "_view_module_version": "1.2.0",
      "_view_name": "StyleView",
      "description_width": ""
     }
    },
    "c0f0d0bea2454516bdb5456a93478a1e": {
     "model_module": "@jupyter-widgets/controls",
     "model_module_version": "1.5.0",
     "model_name": "DescriptionStyleModel",
     "state": {
      "_model_module": "@jupyter-widgets/controls",
      "_model_module_version": "1.5.0",
      "_model_name": "DescriptionStyleModel",
      "_view_count": null,
      "_view_module": "@jupyter-widgets/base",
      "_view_module_version": "1.2.0",
      "_view_name": "StyleView",
      "description_width": ""
     }
    },
    "d9ed91bed8a84353b3d3146386f0fd6b": {
     "model_module": "@jupyter-widgets/controls",
     "model_module_version": "1.5.0",
     "model_name": "HTMLModel",
     "state": {
      "_dom_classes": [],
      "_model_module": "@jupyter-widgets/controls",
      "_model_module_version": "1.5.0",
      "_model_name": "HTMLModel",
      "_view_count": null,
      "_view_module": "@jupyter-widgets/controls",
      "_view_module_version": "1.5.0",
      "_view_name": "HTMLView",
      "description": "",
      "description_tooltip": null,
      "layout": "IPY_MODEL_4b39df8afd1a4de0989b57cdb2c34d98",
      "placeholder": "​",
      "style": "IPY_MODEL_bdc16080c18e49239f84e9da8a5c994c",
      "value": " 1/1 [00:00&lt;00:00,  8.67it/s]"
     }
    },
    "e2b95a36db544e1b8cb5c5f0ca1becff": {
     "model_module": "@jupyter-widgets/controls",
     "model_module_version": "1.5.0",
     "model_name": "ProgressStyleModel",
     "state": {
      "_model_module": "@jupyter-widgets/controls",
      "_model_module_version": "1.5.0",
      "_model_name": "ProgressStyleModel",
      "_view_count": null,
      "_view_module": "@jupyter-widgets/base",
      "_view_module_version": "1.2.0",
      "_view_name": "StyleView",
      "bar_color": null,
      "description_width": ""
     }
    }
   }
  }
 },
 "nbformat": 4,
 "nbformat_minor": 4
}
